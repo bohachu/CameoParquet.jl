{
 "cells": [
  {
   "cell_type": "code",
   "execution_count": 10,
   "metadata": {},
   "outputs": [
    {
     "name": "stdout",
     "output_type": "stream",
     "text": [
      "http://storage.googleapis.com/cameo_aqi/data/table%3A%E5%9C%8B%E5%AE%B6%E6%A8%99%E6%BA%96%E7%AB%99_%E6%AF%8F%E6%97%A5_%E5%B0%8F%E6%99%82%E5%80%BC/table%3A%E5%9C%8B%E5%AE%B6%E6%A8%99%E6%BA%96%E7%AB%99_%E6%AF%8F%E6%97%A5_%E5%B0%8F%E6%99%82%E5%80%BC%2Cday%3A2020-08-15.parquet"
     ]
    }
   ],
   "source": [
    "function test_read_parquet()\n",
    "    str_url=\"http://storage.googleapis.com/cameo_aqi/data/table\"*\n",
    "        \"%3A%E5%9C%8B%E5%AE%B6%E6%A8%99%E6%BA%96%E7%AB%99_%E6%AF%8F%E6%97%A5_%E5%B0%8F%E6%99%82%E5%80%BC/\"*\n",
    "        \"table%3A%E5%9C%8B%E5%AE%B6%E6%A8%99%E6%BA%96%E7%AB%99_%E6%AF%8F%E6%97%A5_%E5%B0%8F%E6%99%82%E5%80%BC%2Cday%3A2020-08-15.parquet\"\n",
    "    print(str_url)\n",
    "#     df=read_parquet(str_url)\n",
    "end\n",
    "test_read_parquet()"
   ]
  },
  {
   "cell_type": "code",
   "execution_count": null,
   "metadata": {},
   "outputs": [],
   "source": []
  }
 ],
 "metadata": {
  "kernelspec": {
   "display_name": "Julia 1.5.0",
   "language": "julia",
   "name": "julia-1.5"
  },
  "language_info": {
   "file_extension": ".jl",
   "mimetype": "application/julia",
   "name": "julia",
   "version": "1.5.0"
  }
 },
 "nbformat": 4,
 "nbformat_minor": 4
}
