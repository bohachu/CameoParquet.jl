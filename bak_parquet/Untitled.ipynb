{
 "cells": [
  {
   "cell_type": "code",
   "execution_count": 1,
   "metadata": {},
   "outputs": [],
   "source": [
    "#使用 Parquet.jl 測試看看\n",
    "# import Pkg; Pkg.add(\"Parquet\")\n",
    "using Parquet"
   ]
  },
  {
   "cell_type": "code",
   "execution_count": 3,
   "metadata": {},
   "outputs": [
    {
     "name": "stdout",
     "output_type": "stream",
     "text": [
      "  0.011848 seconds (17.12 k allocations: 1.104 MiB)\n"
     ]
    },
    {
     "data": {
      "text/plain": [
       "Parquet file: ./table:國家標準站_每日_小時值,day:2020-08-15.parquet\n",
       "    version: 1\n",
       "    nrows: 1944\n",
       "    created by: parquet-cpp version 1.5.1-SNAPSHOT\n",
       "    cached: 0 column chunks\n"
      ]
     },
     "execution_count": 3,
     "metadata": {},
     "output_type": "execute_result"
    }
   ],
   "source": [
    "@time p=ParFile(\"./table:國家標準站_每日_小時值,day:2020-08-15.parquet\"; map_logical_types=true)"
   ]
  },
  {
   "cell_type": "code",
   "execution_count": 4,
   "metadata": {},
   "outputs": [
    {
     "data": {
      "text/plain": [
       "1944"
      ]
     },
     "execution_count": 4,
     "metadata": {},
     "output_type": "execute_result"
    }
   ],
   "source": [
    "nrows(p)"
   ]
  },
  {
   "cell_type": "code",
   "execution_count": 5,
   "metadata": {},
   "outputs": [
    {
     "data": {
      "text/plain": [
       "90"
      ]
     },
     "execution_count": 5,
     "metadata": {},
     "output_type": "execute_result"
    }
   ],
   "source": [
    "ncols(p)"
   ]
  },
  {
   "cell_type": "code",
   "execution_count": 6,
   "metadata": {},
   "outputs": [
    {
     "data": {
      "text/plain": [
       "90-element Array{Array{String,1},1}:\n",
       " [\"deviceId\"]\n",
       " [\"time\"]\n",
       " [\"lat\"]\n",
       " [\"lon\"]\n",
       " [\"amb_temp\"]\n",
       " [\"amb_temp_#\"]\n",
       " [\"amb_temp_*\"]\n",
       " [\"amb_temp_x\"]\n",
       " [\"aqi\"]\n",
       " [\"aqi_#\"]\n",
       " [\"aqi_*\"]\n",
       " [\"aqi_x\"]\n",
       " [\"ch4\"]\n",
       " ⋮\n",
       " [\"wind_direct_*\"]\n",
       " [\"wind_direct_x\"]\n",
       " [\"wind_speed\"]\n",
       " [\"wind_speed_#\"]\n",
       " [\"wind_speed_*\"]\n",
       " [\"wind_speed_x\"]\n",
       " [\"ws_hr\"]\n",
       " [\"ws_hr_#\"]\n",
       " [\"ws_hr_*\"]\n",
       " [\"ws_hr_x\"]\n",
       " [\"測站\"]\n",
       " [\"__index_level_0__\"]"
      ]
     },
     "execution_count": 6,
     "metadata": {},
     "output_type": "execute_result"
    }
   ],
   "source": [
    "colnames(p)"
   ]
  },
  {
   "cell_type": "code",
   "execution_count": 7,
   "metadata": {},
   "outputs": [
    {
     "data": {
      "text/plain": [
       "Schema:\n",
       "    required schema {\n",
       "      optional INT64 deviceId\n",
       "      optional INT64 time# (from TIMESTAMP_MILLIS\n",
       "      optional DOUBLE lat\n",
       "      optional DOUBLE lon\n",
       "      optional DOUBLE amb_temp\n",
       "      optional INT64 amb_temp_#\n",
       "      optional INT64 amb_temp_*\n",
       "      optional INT64 amb_temp_x\n",
       "      optional DOUBLE aqi\n",
       "      optional INT64 aqi_#\n",
       "      optional INT64 aqi_*\n",
       "      optional INT64 aqi_x\n",
       "      optional DOUBLE ch4\n",
       "      optional INT64 ch4_#\n",
       "      optional INT64 ch4_*\n",
       "      optional INT64 ch4_x\n",
       "      optional DOUBLE co\n",
       "      optional INT64 co_#\n",
       "      optional INT64 co_*\n",
       "      optional INT64 co_x\n",
       "      optional DOUBLE nmhc\n",
       "      optional INT64 nmhc_#\n",
       "      optional INT64 nmhc_*\n",
       "      optional INT64 nmhc_x\n",
       "      optional DOUBLE no\n",
       "      optional DOUBLE no2\n",
       "      optional INT64 no2_#\n",
       "      optional INT64 no2_*\n",
       "      optional INT64 no2_x\n",
       "      optional INT64 no_#\n",
       "      optional INT64 no_*\n",
       "      optional INT64 no_x\n",
       "      optional DOUBLE nox\n",
       "      optional INT64 nox_#\n",
       "      optional INT64 nox_*\n",
       "      optional INT64 nox_x\n",
       "      optional DOUBLE o3\n",
       "      optional INT64 o3_#\n",
       "      optional INT64 o3_*\n",
       "      optional INT64 o3_x\n",
       "      optional DOUBLE ph_rain\n",
       "      optional INT64 ph_rain_#\n",
       "      optional INT64 ph_rain_*\n",
       "      optional INT64 ph_rain_x\n",
       "      optional DOUBLE pm10\n",
       "      optional INT64 pm10_#\n",
       "      optional INT64 pm10_*\n",
       "      optional INT64 pm10_x\n",
       "      optional DOUBLE pm2_5\n",
       "      optional INT64 pm2_5_#\n",
       "      optional INT64 pm2_5_*\n",
       "      optional INT64 pm2_5_x\n",
       "      optional DOUBLE rain_cond\n",
       "      optional INT64 rain_cond_#\n",
       "      optional INT64 rain_cond_*\n",
       "      optional INT64 rain_cond_x\n",
       "      optional DOUBLE rainfall\n",
       "      optional INT64 rainfall_#\n",
       "      optional INT64 rainfall_*\n",
       "      optional INT64 rainfall_x\n",
       "      optional DOUBLE rh\n",
       "      optional INT64 rh_#\n",
       "      optional INT64 rh_*\n",
       "      optional INT64 rh_x\n",
       "      optional DOUBLE so2\n",
       "      optional INT64 so2_#\n",
       "      optional INT64 so2_*\n",
       "      optional INT64 so2_x\n",
       "      optional DOUBLE thc\n",
       "      optional INT64 thc_#\n",
       "      optional INT64 thc_*\n",
       "      optional INT64 thc_x\n",
       "      optional DOUBLE wd_hr\n",
       "      optional INT64 wd_hr_#\n",
       "      optional INT64 wd_hr_*\n",
       "      optional INT64 wd_hr_x\n",
       "      optional DOUBLE wind_direct\n",
       "      optional INT64 wind_direct_#\n",
       "      optional INT64 wind_direct_*\n",
       "      optional INT64 wind_direct_x\n",
       "      optional DOUBLE wind_speed\n",
       "      optional INT64 wind_speed_#\n",
       "      optional INT64 wind_speed_*\n",
       "      optional INT64 wind_speed_x\n",
       "      optional DOUBLE ws_hr\n",
       "      optional INT64 ws_hr_#\n",
       "      optional INT64 ws_hr_*\n",
       "      optional INT64 ws_hr_x\n",
       "      optional BYTE_ARRAY 測站# (from UTF8\n",
       "      optional INT64 __index_level_0__\n",
       "    }\n"
      ]
     },
     "execution_count": 7,
     "metadata": {},
     "output_type": "execute_result"
    },
    {
     "name": "stdout",
     "output_type": "stream",
     "text": [
      ") ) "
     ]
    }
   ],
   "source": [
    "schema(p)"
   ]
  },
  {
   "cell_type": "code",
   "execution_count": 8,
   "metadata": {},
   "outputs": [
    {
     "ename": "LoadError",
     "evalue": "ArgumentError: no default `Tables.columns` implementation for type: ParFile",
     "output_type": "error",
     "traceback": [
      "ArgumentError: no default `Tables.columns` implementation for type: ParFile",
      "",
      "Stacktrace:",
      " [1] columns at /Users/chiubowen/.julia/packages/Tables/Eti9i/src/fallbacks.jl:239 [inlined]",
      " [2] write_parquet(::String, ::ParFile; compression_codec::String) at /Users/chiubowen/.julia/packages/Parquet/2HfNB/src/writer.jl:464",
      " [3] write_parquet(::String, ::ParFile) at /Users/chiubowen/.julia/packages/Parquet/2HfNB/src/writer.jl:464",
      " [4] top-level scope at In[8]:1",
      " [5] include_string(::Function, ::Module, ::String, ::String) at ./loading.jl:1091"
     ]
    }
   ],
   "source": [
    "write_parquet(\"p2.parquet\",p)"
   ]
  },
  {
   "cell_type": "code",
   "execution_count": 13,
   "metadata": {},
   "outputs": [
    {
     "ename": "LoadError",
     "evalue": "ArgumentError: no default `Tables.columns` implementation for type: ParFile",
     "output_type": "error",
     "traceback": [
      "ArgumentError: no default `Tables.columns` implementation for type: ParFile",
      "",
      "Stacktrace:",
      " [1] columns at /Users/chiubowen/.julia/packages/Tables/Eti9i/src/fallbacks.jl:239 [inlined]",
      " [2] write_parquet(::String, ::ParFile; compression_codec::String) at /Users/chiubowen/.julia/packages/Parquet/2HfNB/src/writer.jl:464",
      " [3] write_parquet(::String, ::ParFile) at /Users/chiubowen/.julia/packages/Parquet/2HfNB/src/writer.jl:464",
      " [4] top-level scope at In[13]:3",
      " [5] include_string(::Function, ::Module, ::String, ::String) at ./loading.jl:1091"
     ]
    }
   ],
   "source": [
    "using DataFrames\n",
    "df = DataFrame(A = 1:4, B = [\"M\", \"F\", \"F\", \"M\"])\n",
    "write_parquet(\"test_df.parquet\",p)"
   ]
  },
  {
   "cell_type": "code",
   "execution_count": 15,
   "metadata": {},
   "outputs": [
    {
     "ename": "LoadError",
     "evalue": "type ParFile has no field columns",
     "output_type": "error",
     "traceback": [
      "type ParFile has no field columns",
      "",
      "Stacktrace:",
      " [1] getproperty(::ParFile, ::Symbol) at ./Base.jl:33",
      " [2] top-level scope at In[15]:1",
      " [3] include_string(::Function, ::Module, ::String, ::String) at ./loading.jl:1091"
     ]
    }
   ],
   "source": [
    "p.columns"
   ]
  },
  {
   "cell_type": "code",
   "execution_count": 14,
   "metadata": {},
   "outputs": [
    {
     "name": "stdout",
     "output_type": "stream",
     "text": [
      "  0.009698 seconds (7.71 k allocations: 4.081 MiB)\n"
     ]
    },
    {
     "data": {
      "text/plain": [
       "Batched Columns Cursor on ./table:國家標準站_每日_小時值,day:2020-08-15.parquet\n",
       "    rows: 1:1944\n",
       "    batches: 1\n",
       "    cols: deviceId, time, lat, lon, amb_temp, amb_temp_#, amb_temp_*, amb_temp_x, aqi, aqi_#, aqi_*, aqi_x, ch4, ch4_#, ch4_*, ch4_x, co, co_#, co_*, co_x, nmhc, nmhc_#, nmhc_*, nmhc_x, no, no2, no2_#, no2_*, no2_x, no_#, no_*, no_x, nox, nox_#, nox_*, nox_x, o3, o3_#, o3_*, o3_x, ph_rain, ph_rain_#, ph_rain_*, ph_rain_x, pm10, pm10_#, pm10_*, pm10_x, pm2_5, pm2_5_#, pm2_5_*, pm2_5_x, rain_cond, rain_cond_#, rain_cond_*, rain_cond_x, rainfall, rainfall_#, rainfall_*, rainfall_x, rh, rh_#, rh_*, rh_x, so2, so2_#, so2_*, so2_x, thc, thc_#, thc_*, thc_x, wd_hr, wd_hr_#, wd_hr_*, wd_hr_x, wind_direct, wind_direct_#, wind_direct_*, wind_direct_x, wind_speed, wind_speed_#, wind_speed_*, wind_speed_x, ws_hr, ws_hr_#, ws_hr_*, ws_hr_x, 測站, __index_level_0__\n"
      ]
     },
     "execution_count": 14,
     "metadata": {},
     "output_type": "execute_result"
    }
   ],
   "source": [
    "@time cc = Parquet.BatchedColumnsCursor(pf)"
   ]
  },
  {
   "cell_type": "code",
   "execution_count": 15,
   "metadata": {},
   "outputs": [],
   "source": [
    "batchvals, state = iterate(cc);"
   ]
  },
  {
   "cell_type": "code",
   "execution_count": 20,
   "metadata": {},
   "outputs": [
    {
     "ename": "LoadError",
     "evalue": "UndefVarError: batchvals not defined",
     "output_type": "error",
     "traceback": [
      "UndefVarError: batchvals not defined",
      "",
      "Stacktrace:",
      " [1] top-level scope at In[20]:1",
      " [2] include_string(::Function, ::Module, ::String, ::String) at ./loading.jl:1091"
     ]
    }
   ],
   "source": [
    "batchvals[0]"
   ]
  },
  {
   "cell_type": "code",
   "execution_count": 17,
   "metadata": {},
   "outputs": [
    {
     "data": {
      "text/plain": [
       "missing"
      ]
     },
     "execution_count": 17,
     "metadata": {},
     "output_type": "execute_result"
    }
   ],
   "source": [
    "missing"
   ]
  },
  {
   "cell_type": "code",
   "execution_count": 19,
   "metadata": {},
   "outputs": [
    {
     "data": {
      "text/plain": [
       "2"
      ]
     },
     "execution_count": 19,
     "metadata": {},
     "output_type": "execute_result"
    }
   ],
   "source": [
    "state"
   ]
  },
  {
   "cell_type": "code",
   "execution_count": 20,
   "metadata": {},
   "outputs": [
    {
     "data": {
      "text/plain": [
       "(:deviceId, :time, :lat, :lon, :amb_temp, Symbol(\"amb_temp_#\"), Symbol(\"amb_temp_*\"), :amb_temp_x, :aqi, Symbol(\"aqi_#\"), Symbol(\"aqi_*\"), :aqi_x, :ch4, Symbol(\"ch4_#\"), Symbol(\"ch4_*\"), :ch4_x, :co, Symbol(\"co_#\"), Symbol(\"co_*\"), :co_x, :nmhc, Symbol(\"nmhc_#\"), Symbol(\"nmhc_*\"), :nmhc_x, :no, :no2, Symbol(\"no2_#\"), Symbol(\"no2_*\"), :no2_x, Symbol(\"no_#\"), Symbol(\"no_*\"), :no_x, :nox, Symbol(\"nox_#\"), Symbol(\"nox_*\"), :nox_x, :o3, Symbol(\"o3_#\"), Symbol(\"o3_*\"), :o3_x, :ph_rain, Symbol(\"ph_rain_#\"), Symbol(\"ph_rain_*\"), :ph_rain_x, :pm10, Symbol(\"pm10_#\"), Symbol(\"pm10_*\"), :pm10_x, :pm2_5, Symbol(\"pm2_5_#\"), Symbol(\"pm2_5_*\"), :pm2_5_x, :rain_cond, Symbol(\"rain_cond_#\"), Symbol(\"rain_cond_*\"), :rain_cond_x, :rainfall, Symbol(\"rainfall_#\"), Symbol(\"rainfall_*\"), :rainfall_x, :rh, Symbol(\"rh_#\"), Symbol(\"rh_*\"), :rh_x, :so2, Symbol(\"so2_#\"), Symbol(\"so2_*\"), :so2_x, :thc, Symbol(\"thc_#\"), Symbol(\"thc_*\"), :thc_x, :wd_hr, Symbol(\"wd_hr_#\"), Symbol(\"wd_hr_*\"), :wd_hr_x, :wind_direct, Symbol(\"wind_direct_#\"), Symbol(\"wind_direct_*\"), :wind_direct_x, :wind_speed, Symbol(\"wind_speed_#\"), Symbol(\"wind_speed_*\"), :wind_speed_x, :ws_hr, Symbol(\"ws_hr_#\"), Symbol(\"ws_hr_*\"), :ws_hr_x, :測站, :__index_level_0__)"
      ]
     },
     "execution_count": 20,
     "metadata": {},
     "output_type": "execute_result"
    }
   ],
   "source": [
    "propertynames(batchvals)"
   ]
  },
  {
   "cell_type": "code",
   "execution_count": 21,
   "metadata": {},
   "outputs": [
    {
     "data": {
      "text/plain": [
       "1944"
      ]
     },
     "execution_count": 21,
     "metadata": {},
     "output_type": "execute_result"
    }
   ],
   "source": [
    "length(batchvals.deviceId)"
   ]
  },
  {
   "cell_type": "code",
   "execution_count": 24,
   "metadata": {},
   "outputs": [
    {
     "name": "stderr",
     "output_type": "stream",
     "text": [
      "\u001b[32m\u001b[1m  Resolving\u001b[22m\u001b[39m package versions...\n",
      "\u001b[32m\u001b[1mNo Changes\u001b[22m\u001b[39m to `~/.julia/environments/v1.5/Project.toml`\n",
      "\u001b[32m\u001b[1mNo Changes\u001b[22m\u001b[39m to `~/.julia/environments/v1.5/Manifest.toml`\n"
     ]
    }
   ],
   "source": [
    "import Pkg; Pkg.add(\"ParquetFiles\")\n",
    "using ParquetFiles, DataFrames"
   ]
  },
  {
   "cell_type": "code",
   "execution_count": 28,
   "metadata": {},
   "outputs": [
    {
     "ename": "LoadError",
     "evalue": "ArgumentError: no default `Tables.columns` implementation for type: ParFile",
     "output_type": "error",
     "traceback": [
      "ArgumentError: no default `Tables.columns` implementation for type: ParFile",
      "",
      "Stacktrace:",
      " [1] columns at /Users/chiubowen/.julia/packages/Tables/Eti9i/src/fallbacks.jl:239 [inlined]",
      " [2] DataFrame(::ParFile; copycols::Bool) at /Users/chiubowen/.julia/packages/DataFrames/4ov0U/src/other/tables.jl:43",
      " [3] DataFrame(::ParFile) at /Users/chiubowen/.julia/packages/DataFrames/4ov0U/src/other/tables.jl:34",
      " [4] top-level scope at In[28]:1",
      " [5] include_string(::Function, ::Module, ::String, ::String) at ./loading.jl:1091"
     ]
    }
   ],
   "source": [
    "df = DataFrame(pf)"
   ]
  },
  {
   "cell_type": "code",
   "execution_count": 1,
   "metadata": {},
   "outputs": [
    {
     "name": "stderr",
     "output_type": "stream",
     "text": [
      "┌ Info: Precompiling ParquetFiles [46a55296-af5a-53b0-aaa0-97023b66127f]\n",
      "└ @ Base loading.jl:1278\n"
     ]
    }
   ],
   "source": [
    "using ParquetFiles"
   ]
  },
  {
   "cell_type": "code",
   "execution_count": 4,
   "metadata": {},
   "outputs": [
    {
     "ename": "LoadError",
     "evalue": "syntax: invalid \"::\" syntax",
     "output_type": "error",
     "traceback": [
      "syntax: invalid \"::\" syntax",
      "",
      "Stacktrace:",
      " [1] top-level scope at none:1",
      " [2] eval at ./boot.jl:331 [inlined]",
      " [3] schema_to_julia_types(::Module, ::Parquet.Schema, ::Symbol) at /Users/chiubowen/.julia/packages/Parquet/gHhvB/src/schema.jl:231",
      " [4] schema(::Parquet.JuliaConverter, ::Parquet.Schema, ::Symbol) at /Users/chiubowen/.julia/packages/Parquet/gHhvB/src/schema.jl:224",
      " [5] schema at /Users/chiubowen/.julia/packages/Parquet/gHhvB/src/reader.jl:66 [inlined]",
      " [6] getiterator(::ParquetFiles.ParquetFile) at /Users/chiubowen/.julia/packages/ParquetFiles/cLLFb/src/ParquetFiles.jl:65",
      " [7] nondatavaluerows(::ParquetFiles.ParquetFile) at /Users/chiubowen/.julia/packages/Tables/Eti9i/src/tofromdatavalues.jl:24",
      " [8] columns at /Users/chiubowen/.julia/packages/Tables/Eti9i/src/fallbacks.jl:236 [inlined]",
      " [9] DataFrame(::ParquetFiles.ParquetFile; copycols::Bool) at /Users/chiubowen/.julia/packages/DataFrames/4ov0U/src/other/tables.jl:43",
      " [10] DataFrame(::ParquetFiles.ParquetFile) at /Users/chiubowen/.julia/packages/DataFrames/4ov0U/src/other/tables.jl:34",
      " [11] top-level scope at In[4]:2",
      " [12] include_string(::Function, ::Module, ::String, ::String) at ./loading.jl:1091"
     ]
    }
   ],
   "source": [
    "using DataFrames\n",
    "DataFrame(load(\"table:國家標準站_每日_小時值,day:2020-08-15.parquet\"))"
   ]
  },
  {
   "cell_type": "code",
   "execution_count": 5,
   "metadata": {},
   "outputs": [
    {
     "data": {
      "text/plain": [
       "\"/var/folders/mp/kmmxc1qd1q39gyg0xvbnmzw40000gn/T/jl_gKLOWj\""
      ]
     },
     "execution_count": 5,
     "metadata": {},
     "output_type": "execute_result"
    }
   ],
   "source": [
    "tempname()"
   ]
  },
  {
   "cell_type": "code",
   "execution_count": 14,
   "metadata": {},
   "outputs": [
    {
     "ename": "LoadError",
     "evalue": "UndefVarError: write_parquet not defined",
     "output_type": "error",
     "traceback": [
      "UndefVarError: write_parquet not defined",
      "",
      "Stacktrace:",
      " [1] top-level scope at In[14]:18",
      " [2] include_string(::Function, ::Module, ::String, ::String) at ./loading.jl:1091"
     ]
    }
   ],
   "source": [
    "using Random,Parquet\n",
    "\n",
    "tbl = (\n",
    "    int32 = Int32.(1:1000),\n",
    "    int64 = Int64.(1:1000),\n",
    "    float32 = Float32.(1:1000),\n",
    "    float64 = Float64.(1:1000),\n",
    "    bool = rand(Bool, 1000),\n",
    "    string = [randstring(8) for i in 1:1000],\n",
    "    int32m = rand([missing, 1:100...], 1000),\n",
    "    int64m = rand([missing, 1:100...], 1000),\n",
    "    float32m = rand([missing, Float32.(1:100)...], 1000),\n",
    "    float64m = rand([missing, Float64.(1:100)...], 1000),\n",
    "    boolm = rand([missing, true, false], 1000),\n",
    "    stringm = rand([missing, \"abc\", \"def\", \"ghi\"], 1000)\n",
    ")\n",
    "\n",
    "write_parquet(\"parquet_jl_random.parquet\", tbl)"
   ]
  },
  {
   "cell_type": "code",
   "execution_count": 12,
   "metadata": {},
   "outputs": [
    {
     "ename": "LoadError",
     "evalue": "UndefVarError: write_parquet not defined",
     "output_type": "error",
     "traceback": [
      "UndefVarError: write_parquet not defined",
      "",
      "Stacktrace:",
      " [1] top-level scope",
      " [2] include_string(::Function, ::Module, ::String, ::String) at ./loading.jl:1091"
     ]
    }
   ],
   "source": [
    "write_parquet"
   ]
  },
  {
   "cell_type": "code",
   "execution_count": 21,
   "metadata": {},
   "outputs": [
    {
     "name": "stderr",
     "output_type": "stream",
     "text": [
      "┌ Warning: Pkg.installed() is deprecated\n",
      "└ @ Pkg /Users/julia/buildbot/worker/package_macos64/build/usr/share/julia/stdlib/v1.5/Pkg/src/Pkg.jl:554\n"
     ]
    }
   ],
   "source": [
    "using Pkg\n"
   ]
  },
  {
   "cell_type": "code",
   "execution_count": 1,
   "metadata": {},
   "outputs": [
    {
     "name": "stderr",
     "output_type": "stream",
     "text": [
      "\u001b[32m\u001b[1m   Updating\u001b[22m\u001b[39m registry at `~/.julia/registries/General`\n"
     ]
    },
    {
     "name": "stdout",
     "output_type": "stream",
     "text": [
      "\u001b[?25l\u001b[2K"
     ]
    },
    {
     "name": "stderr",
     "output_type": "stream",
     "text": [
      "\u001b[32m\u001b[1m   Updating\u001b[22m\u001b[39m git-repo `https://github.com/JuliaRegistries/General.git`\n"
     ]
    },
    {
     "name": "stdout",
     "output_type": "stream",
     "text": [
      "\u001b[?25h"
     ]
    },
    {
     "name": "stderr",
     "output_type": "stream",
     "text": [
      "\u001b[32m\u001b[1m  Resolving\u001b[22m\u001b[39m package versions...\n",
      "\u001b[32m\u001b[1mNo Changes\u001b[22m\u001b[39m to `~/.julia/environments/v1.5/Project.toml`\n",
      "\u001b[32m\u001b[1mNo Changes\u001b[22m\u001b[39m to `~/.julia/environments/v1.5/Manifest.toml`\n"
     ]
    }
   ],
   "source": [
    "import Pkg; Pkg.add(\"ParquetFiles\")\n",
    "using ParquetFiles"
   ]
  },
  {
   "cell_type": "code",
   "execution_count": 4,
   "metadata": {},
   "outputs": [
    {
     "name": "stderr",
     "output_type": "stream",
     "text": [
      "┌ Warning: Pkg.installed() is deprecated\n",
      "└ @ Pkg /Users/julia/buildbot/worker/package_macos64/build/usr/share/julia/stdlib/v1.5/Pkg/src/Pkg.jl:554\n"
     ]
    },
    {
     "data": {
      "text/plain": [
       "v\"0.2.0\""
      ]
     },
     "execution_count": 4,
     "metadata": {},
     "output_type": "execute_result"
    }
   ],
   "source": [
    "pkgs = Pkg.installed()\n",
    "pkgs[\"ParquetFiles\"]"
   ]
  },
  {
   "cell_type": "code",
   "execution_count": 6,
   "metadata": {},
   "outputs": [
    {
     "name": "stderr",
     "output_type": "stream",
     "text": [
      "\u001b[32m\u001b[1mUpdating\u001b[22m\u001b[39m `~/.julia/environments/v1.5/Project.toml`\n",
      " \u001b[90m [626c502c] \u001b[39m\u001b[91m- Parquet v0.4.0\u001b[39m\n",
      "\u001b[32m\u001b[1mNo Changes\u001b[22m\u001b[39m to `~/.julia/environments/v1.5/Manifest.toml`\n",
      "\u001b[32m\u001b[1m  Resolving\u001b[22m\u001b[39m package versions...\n",
      "\u001b[32m\u001b[1mNo Changes\u001b[22m\u001b[39m to `~/.julia/environments/v1.5/Project.toml`\n",
      "\u001b[32m\u001b[1mNo Changes\u001b[22m\u001b[39m to `~/.julia/environments/v1.5/Manifest.toml`\n",
      "\u001b[32m\u001b[1m  Resolving\u001b[22m\u001b[39m package versions...\n"
     ]
    },
    {
     "ename": "LoadError",
     "evalue": "Unsatisfiable requirements detected for package ParquetFiles [46a55296]:\n ParquetFiles [46a55296] log:\n ├─possible versions are: [0.1.0, 0.2.0] or uninstalled\n ├─restricted to versions * by an explicit requirement, leaving only versions [0.1.0, 0.2.0]\n └─restricted by compatibility requirements with Parquet [626c502c] to versions: uninstalled — no versions left\n   └─Parquet [626c502c] log:\n     ├─possible versions are: [0.2.0, 0.3.0-0.3.2, 0.4.0, 0.5.0-0.5.2, 0.6.0-0.6.1] or uninstalled\n     └─restricted to versions 0.6.1 by an explicit requirement, leaving only versions 0.6.1",
     "output_type": "error",
     "traceback": [
      "Unsatisfiable requirements detected for package ParquetFiles [46a55296]:\n ParquetFiles [46a55296] log:\n ├─possible versions are: [0.1.0, 0.2.0] or uninstalled\n ├─restricted to versions * by an explicit requirement, leaving only versions [0.1.0, 0.2.0]\n └─restricted by compatibility requirements with Parquet [626c502c] to versions: uninstalled — no versions left\n   └─Parquet [626c502c] log:\n     ├─possible versions are: [0.2.0, 0.3.0-0.3.2, 0.4.0, 0.5.0-0.5.2, 0.6.0-0.6.1] or uninstalled\n     └─restricted to versions 0.6.1 by an explicit requirement, leaving only versions 0.6.1",
      "",
      "Stacktrace:",
      " [1] propagate_constraints!(::Pkg.Resolve.Graph, ::Set{Int64}; log_events::Bool) at /Users/julia/buildbot/worker/package_macos64/build/usr/share/julia/stdlib/v1.5/Pkg/src/Resolve/graphtype.jl:1005",
      " [2] propagate_constraints! at /Users/julia/buildbot/worker/package_macos64/build/usr/share/julia/stdlib/v1.5/Pkg/src/Resolve/graphtype.jl:946 [inlined] (repeats 2 times)",
      " [3] simplify_graph!(::Pkg.Resolve.Graph, ::Set{Int64}; clean_graph::Bool) at /Users/julia/buildbot/worker/package_macos64/build/usr/share/julia/stdlib/v1.5/Pkg/src/Resolve/graphtype.jl:1460",
      " [4] simplify_graph! at /Users/julia/buildbot/worker/package_macos64/build/usr/share/julia/stdlib/v1.5/Pkg/src/Resolve/graphtype.jl:1460 [inlined] (repeats 2 times)",
      " [5] resolve_versions!(::Pkg.Types.Context, ::Array{Pkg.Types.PackageSpec,1}) at /Users/julia/buildbot/worker/package_macos64/build/usr/share/julia/stdlib/v1.5/Pkg/src/Operations.jl:368",
      " [6] targeted_resolve at /Users/julia/buildbot/worker/package_macos64/build/usr/share/julia/stdlib/v1.5/Pkg/src/Operations.jl:1107 [inlined]",
      " [7] tiered_resolve(::Pkg.Types.Context, ::Array{Pkg.Types.PackageSpec,1}) at /Users/julia/buildbot/worker/package_macos64/build/usr/share/julia/stdlib/v1.5/Pkg/src/Operations.jl:1093",
      " [8] _resolve at /Users/julia/buildbot/worker/package_macos64/build/usr/share/julia/stdlib/v1.5/Pkg/src/Operations.jl:1113 [inlined]",
      " [9] add(::Pkg.Types.Context, ::Array{Pkg.Types.PackageSpec,1}, ::Array{Base.UUID,1}; preserve::Pkg.Types.PreserveLevel, platform::Pkg.BinaryPlatforms.MacOS) at /Users/julia/buildbot/worker/package_macos64/build/usr/share/julia/stdlib/v1.5/Pkg/src/Operations.jl:1128",
      " [10] add(::Pkg.Types.Context, ::Array{Pkg.Types.PackageSpec,1}; preserve::Pkg.Types.PreserveLevel, platform::Pkg.BinaryPlatforms.MacOS, kwargs::Base.Iterators.Pairs{Union{},Union{},Tuple{},NamedTuple{(),Tuple{}}}) at /Users/julia/buildbot/worker/package_macos64/build/usr/share/julia/stdlib/v1.5/Pkg/src/API.jl:189",
      " [11] add(::Pkg.Types.Context, ::Array{Pkg.Types.PackageSpec,1}) at /Users/julia/buildbot/worker/package_macos64/build/usr/share/julia/stdlib/v1.5/Pkg/src/API.jl:140",
      " [12] #add#21 at /Users/julia/buildbot/worker/package_macos64/build/usr/share/julia/stdlib/v1.5/Pkg/src/API.jl:67 [inlined]",
      " [13] add at /Users/julia/buildbot/worker/package_macos64/build/usr/share/julia/stdlib/v1.5/Pkg/src/API.jl:67 [inlined]",
      " [14] #add#19 at /Users/julia/buildbot/worker/package_macos64/build/usr/share/julia/stdlib/v1.5/Pkg/src/API.jl:65 [inlined]",
      " [15] add(::Pkg.Types.PackageSpec) at /Users/julia/buildbot/worker/package_macos64/build/usr/share/julia/stdlib/v1.5/Pkg/src/API.jl:65",
      " [16] top-level scope at In[6]:3",
      " [17] include_string(::Function, ::Module, ::String, ::String) at ./loading.jl:1091"
     ]
    }
   ],
   "source": [
    "Pkg.rm(\"Parquet\")\n",
    "Pkg.add(Pkg.PackageSpec(;name=\"ParquetFiles\", version=\"0.2.0\"))\n",
    "Pkg.add(Pkg.PackageSpec(;name=\"Parquet\", version=\"0.6.1\"))"
   ]
  },
  {
   "cell_type": "code",
   "execution_count": 8,
   "metadata": {},
   "outputs": [
    {
     "ename": "LoadError",
     "evalue": "type Context has no field version",
     "output_type": "error",
     "traceback": [
      "type Context has no field version",
      "",
      "Stacktrace:",
      " [1] #Context!#44 at /Users/julia/buildbot/worker/package_macos64/build/usr/share/julia/stdlib/v1.5/Pkg/src/Types.jl:384 [inlined]",
      " [2] add(::Pkg.Types.Context, ::Array{Pkg.Types.PackageSpec,1}; preserve::Pkg.Types.PreserveLevel, platform::Pkg.BinaryPlatforms.MacOS, kwargs::Base.Iterators.Pairs{Symbol,String,Tuple{Symbol},NamedTuple{(:version,),Tuple{String}}}) at /Users/julia/buildbot/worker/package_macos64/build/usr/share/julia/stdlib/v1.5/Pkg/src/API.jl:143",
      " [3] #add#21 at /Users/julia/buildbot/worker/package_macos64/build/usr/share/julia/stdlib/v1.5/Pkg/src/API.jl:67 [inlined]",
      " [4] #add#20 at /Users/julia/buildbot/worker/package_macos64/build/usr/share/julia/stdlib/v1.5/Pkg/src/API.jl:66 [inlined]",
      " [5] add(::String; kwargs::Base.Iterators.Pairs{Symbol,String,Tuple{Symbol},NamedTuple{(:version,),Tuple{String}}}) at /Users/julia/buildbot/worker/package_macos64/build/usr/share/julia/stdlib/v1.5/Pkg/src/API.jl:65",
      " [6] top-level scope at In[8]:1",
      " [7] include_string(::Function, ::Module, ::String, ::String) at ./loading.jl:1091"
     ]
    }
   ],
   "source": [
    "Pkg.add(\"Parquet\",version=\"0.2.0\")"
   ]
  },
  {
   "cell_type": "code",
   "execution_count": 18,
   "metadata": {},
   "outputs": [
    {
     "ename": "LoadError",
     "evalue": "The following package names could not be resolved:\n * Parquet (626c502c-15b0-58ad-a749-f091afb673ae in manifest but not in project)\n",
     "output_type": "error",
     "traceback": [
      "The following package names could not be resolved:\n * Parquet (626c502c-15b0-58ad-a749-f091afb673ae in manifest but not in project)\n",
      "",
      "Stacktrace:",
      " [1] pkgerror(::String) at /Users/julia/buildbot/worker/package_macos64/build/usr/share/julia/stdlib/v1.5/Pkg/src/Types.jl:52",
      " [2] ensure_resolved(::Pkg.Types.Context, ::Array{Pkg.Types.PackageSpec,1}; registry::Bool) at /Users/julia/buildbot/worker/package_macos64/build/usr/share/julia/stdlib/v1.5/Pkg/src/Types.jl:837",
      " [3] ensure_resolved at /Users/julia/buildbot/worker/package_macos64/build/usr/share/julia/stdlib/v1.5/Pkg/src/Types.jl:802 [inlined]",
      " [4] rm(::Pkg.Types.Context, ::Array{Pkg.Types.PackageSpec,1}; mode::Pkg.Types.PackageMode, kwargs::Base.Iterators.Pairs{Union{},Union{},Tuple{},NamedTuple{(),Tuple{}}}) at /Users/julia/buildbot/worker/package_macos64/build/usr/share/julia/stdlib/v1.5/Pkg/src/API.jl:213",
      " [5] rm at /Users/julia/buildbot/worker/package_macos64/build/usr/share/julia/stdlib/v1.5/Pkg/src/API.jl:194 [inlined]",
      " [6] #rm#29 at /Users/julia/buildbot/worker/package_macos64/build/usr/share/julia/stdlib/v1.5/Pkg/src/API.jl:67 [inlined]",
      " [7] rm at /Users/julia/buildbot/worker/package_macos64/build/usr/share/julia/stdlib/v1.5/Pkg/src/API.jl:67 [inlined]",
      " [8] #rm#28 at /Users/julia/buildbot/worker/package_macos64/build/usr/share/julia/stdlib/v1.5/Pkg/src/API.jl:66 [inlined]",
      " [9] rm at /Users/julia/buildbot/worker/package_macos64/build/usr/share/julia/stdlib/v1.5/Pkg/src/API.jl:66 [inlined]",
      " [10] rm(::String; kwargs::Base.Iterators.Pairs{Union{},Union{},Tuple{},NamedTuple{(),Tuple{}}}) at /Users/julia/buildbot/worker/package_macos64/build/usr/share/julia/stdlib/v1.5/Pkg/src/API.jl:65",
      " [11] rm(::String) at /Users/julia/buildbot/worker/package_macos64/build/usr/share/julia/stdlib/v1.5/Pkg/src/API.jl:65",
      " [12] top-level scope at In[18]:1",
      " [13] include_string(::Function, ::Module, ::String, ::String) at ./loading.jl:1091"
     ]
    }
   ],
   "source": [
    "Pkg.rm(\"Parquet\")"
   ]
  },
  {
   "cell_type": "code",
   "execution_count": 16,
   "metadata": {},
   "outputs": [
    {
     "name": "stderr",
     "output_type": "stream",
     "text": [
      "\u001b[32m\u001b[1m  Resolving\u001b[22m\u001b[39m package versions...\n"
     ]
    },
    {
     "ename": "LoadError",
     "evalue": "Unsatisfiable requirements detected for package ParquetFiles [46a55296]:\n ParquetFiles [46a55296] log:\n ├─possible versions are: [0.1.0, 0.2.0] or uninstalled\n ├─restricted to versions * by an explicit requirement, leaving only versions [0.1.0, 0.2.0]\n └─restricted by compatibility requirements with Parquet [626c502c] to versions: uninstalled — no versions left\n   └─Parquet [626c502c] log:\n     ├─possible versions are: [0.2.0, 0.3.0-0.3.2, 0.4.0, 0.5.0-0.5.2, 0.6.0-0.6.1] or uninstalled\n     └─restricted to versions 0.5.2 by an explicit requirement, leaving only versions 0.5.2",
     "output_type": "error",
     "traceback": [
      "Unsatisfiable requirements detected for package ParquetFiles [46a55296]:\n ParquetFiles [46a55296] log:\n ├─possible versions are: [0.1.0, 0.2.0] or uninstalled\n ├─restricted to versions * by an explicit requirement, leaving only versions [0.1.0, 0.2.0]\n └─restricted by compatibility requirements with Parquet [626c502c] to versions: uninstalled — no versions left\n   └─Parquet [626c502c] log:\n     ├─possible versions are: [0.2.0, 0.3.0-0.3.2, 0.4.0, 0.5.0-0.5.2, 0.6.0-0.6.1] or uninstalled\n     └─restricted to versions 0.5.2 by an explicit requirement, leaving only versions 0.5.2",
      "",
      "Stacktrace:",
      " [1] propagate_constraints!(::Pkg.Resolve.Graph, ::Set{Int64}; log_events::Bool) at /Users/julia/buildbot/worker/package_macos64/build/usr/share/julia/stdlib/v1.5/Pkg/src/Resolve/graphtype.jl:1005",
      " [2] propagate_constraints! at /Users/julia/buildbot/worker/package_macos64/build/usr/share/julia/stdlib/v1.5/Pkg/src/Resolve/graphtype.jl:946 [inlined] (repeats 2 times)",
      " [3] simplify_graph!(::Pkg.Resolve.Graph, ::Set{Int64}; clean_graph::Bool) at /Users/julia/buildbot/worker/package_macos64/build/usr/share/julia/stdlib/v1.5/Pkg/src/Resolve/graphtype.jl:1460",
      " [4] simplify_graph! at /Users/julia/buildbot/worker/package_macos64/build/usr/share/julia/stdlib/v1.5/Pkg/src/Resolve/graphtype.jl:1460 [inlined] (repeats 2 times)",
      " [5] resolve_versions!(::Pkg.Types.Context, ::Array{Pkg.Types.PackageSpec,1}) at /Users/julia/buildbot/worker/package_macos64/build/usr/share/julia/stdlib/v1.5/Pkg/src/Operations.jl:368",
      " [6] targeted_resolve at /Users/julia/buildbot/worker/package_macos64/build/usr/share/julia/stdlib/v1.5/Pkg/src/Operations.jl:1107 [inlined]",
      " [7] tiered_resolve(::Pkg.Types.Context, ::Array{Pkg.Types.PackageSpec,1}) at /Users/julia/buildbot/worker/package_macos64/build/usr/share/julia/stdlib/v1.5/Pkg/src/Operations.jl:1093",
      " [8] _resolve at /Users/julia/buildbot/worker/package_macos64/build/usr/share/julia/stdlib/v1.5/Pkg/src/Operations.jl:1113 [inlined]",
      " [9] add(::Pkg.Types.Context, ::Array{Pkg.Types.PackageSpec,1}, ::Array{Base.UUID,1}; preserve::Pkg.Types.PreserveLevel, platform::Pkg.BinaryPlatforms.MacOS) at /Users/julia/buildbot/worker/package_macos64/build/usr/share/julia/stdlib/v1.5/Pkg/src/Operations.jl:1128",
      " [10] add(::Pkg.Types.Context, ::Array{Pkg.Types.PackageSpec,1}; preserve::Pkg.Types.PreserveLevel, platform::Pkg.BinaryPlatforms.MacOS, kwargs::Base.Iterators.Pairs{Union{},Union{},Tuple{},NamedTuple{(),Tuple{}}}) at /Users/julia/buildbot/worker/package_macos64/build/usr/share/julia/stdlib/v1.5/Pkg/src/API.jl:189",
      " [11] add(::Pkg.Types.Context, ::Array{Pkg.Types.PackageSpec,1}) at /Users/julia/buildbot/worker/package_macos64/build/usr/share/julia/stdlib/v1.5/Pkg/src/API.jl:140",
      " [12] #add#21 at /Users/julia/buildbot/worker/package_macos64/build/usr/share/julia/stdlib/v1.5/Pkg/src/API.jl:67 [inlined]",
      " [13] add at /Users/julia/buildbot/worker/package_macos64/build/usr/share/julia/stdlib/v1.5/Pkg/src/API.jl:67 [inlined]",
      " [14] #add#19 at /Users/julia/buildbot/worker/package_macos64/build/usr/share/julia/stdlib/v1.5/Pkg/src/API.jl:65 [inlined]",
      " [15] add(::Pkg.Types.PackageSpec) at /Users/julia/buildbot/worker/package_macos64/build/usr/share/julia/stdlib/v1.5/Pkg/src/API.jl:65",
      " [16] top-level scope at In[16]:1",
      " [17] include_string(::Function, ::Module, ::String, ::String) at ./loading.jl:1091"
     ]
    }
   ],
   "source": [
    "Pkg.add(Pkg.PackageSpec(;name=\"Parquet\", version=\"0.5.2\"))"
   ]
  },
  {
   "cell_type": "code",
   "execution_count": 19,
   "metadata": {},
   "outputs": [
    {
     "ename": "LoadError",
     "evalue": "`https://github.com/JuliaLang/Example.jl` is not a valid package name\nThe argument appears to be a URL or path, perhaps you meant `Pkg.add(url=\"...\")` or `Pkg.add(path=\"...\")`.",
     "output_type": "error",
     "traceback": [
      "`https://github.com/JuliaLang/Example.jl` is not a valid package name\nThe argument appears to be a URL or path, perhaps you meant `Pkg.add(url=\"...\")` or `Pkg.add(path=\"...\")`.",
      "",
      "Stacktrace:",
      " [1] pkgerror(::String) at /Users/julia/buildbot/worker/package_macos64/build/usr/share/julia/stdlib/v1.5/Pkg/src/Types.jl:52",
      " [2] check_package_name(::String, ::Symbol) at /Users/julia/buildbot/worker/package_macos64/build/usr/share/julia/stdlib/v1.5/Pkg/src/API.jl:52",
      " [3] #93 at /Users/julia/buildbot/worker/package_macos64/build/usr/share/julia/stdlib/v1.5/Pkg/src/API.jl:141 [inlined]",
      " [4] foreach at ./abstractarray.jl:2009 [inlined]",
      " [5] add(::Pkg.Types.Context, ::Array{Pkg.Types.PackageSpec,1}; preserve::Pkg.Types.PreserveLevel, platform::Pkg.BinaryPlatforms.MacOS, kwargs::Base.Iterators.Pairs{Union{},Union{},Tuple{},NamedTuple{(),Tuple{}}}) at /Users/julia/buildbot/worker/package_macos64/build/usr/share/julia/stdlib/v1.5/Pkg/src/API.jl:141",
      " [6] add(::Pkg.Types.Context, ::Array{Pkg.Types.PackageSpec,1}) at /Users/julia/buildbot/worker/package_macos64/build/usr/share/julia/stdlib/v1.5/Pkg/src/API.jl:140",
      " [7] #add#21 at /Users/julia/buildbot/worker/package_macos64/build/usr/share/julia/stdlib/v1.5/Pkg/src/API.jl:67 [inlined]",
      " [8] add at /Users/julia/buildbot/worker/package_macos64/build/usr/share/julia/stdlib/v1.5/Pkg/src/API.jl:67 [inlined]",
      " [9] #add#20 at /Users/julia/buildbot/worker/package_macos64/build/usr/share/julia/stdlib/v1.5/Pkg/src/API.jl:66 [inlined]",
      " [10] add at /Users/julia/buildbot/worker/package_macos64/build/usr/share/julia/stdlib/v1.5/Pkg/src/API.jl:66 [inlined]",
      " [11] add(::String; kwargs::Base.Iterators.Pairs{Union{},Union{},Tuple{},NamedTuple{(),Tuple{}}}) at /Users/julia/buildbot/worker/package_macos64/build/usr/share/julia/stdlib/v1.5/Pkg/src/API.jl:65",
      " [12] add(::String) at /Users/julia/buildbot/worker/package_macos64/build/usr/share/julia/stdlib/v1.5/Pkg/src/API.jl:65",
      " [13] top-level scope at In[19]:1",
      " [14] include_string(::Function, ::Module, ::String, ::String) at ./loading.jl:1091"
     ]
    }
   ],
   "source": [
    "Pkg.add(\"https://github.com/JuliaLang/Example.jl\")"
   ]
  },
  {
   "cell_type": "code",
   "execution_count": null,
   "metadata": {},
   "outputs": [],
   "source": []
  }
 ],
 "metadata": {
  "kernelspec": {
   "display_name": "Julia 1.5.0",
   "language": "julia",
   "name": "julia-1.5"
  },
  "language_info": {
   "file_extension": ".jl",
   "mimetype": "application/julia",
   "name": "julia",
   "version": "1.5.0"
  }
 },
 "nbformat": 4,
 "nbformat_minor": 4
}
