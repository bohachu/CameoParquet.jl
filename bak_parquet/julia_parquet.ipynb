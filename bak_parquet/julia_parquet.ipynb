{
 "cells": [
  {
   "cell_type": "code",
   "execution_count": 1,
   "metadata": {},
   "outputs": [],
   "source": [
    "# import Pkg; Pkg.add(\"PyCall\")\n",
    "# import Pkg; Pkg.add(\"DateTime\")\n",
    "# using Pkg\n",
    "# run(`pip3 install pandas`)\n",
    "# run(`pip3 install pyarrow`)\n",
    "# ENV[\"PYTHON\"]=\"/usr/local/bin/python3.8\"\n",
    "# Pkg.build(\"PyCall\")"
   ]
  },
  {
   "cell_type": "code",
   "execution_count": 16,
   "metadata": {},
   "outputs": [
    {
     "data": {
      "text/plain": [
       "to_string! (generic function with 1 method)"
      ]
     },
     "execution_count": 16,
     "metadata": {},
     "output_type": "execute_result"
    }
   ],
   "source": [
    "using PyCall,DataFrames\n",
    "import Pandas,Dates\n",
    "pd=PyCall.pyimport(\"pandas\")\n",
    "\n",
    "function read_parquet(str_filename,ary_columns=nothing)\n",
    "    df_pandas=pd.read_parquet(str_filename,columns=ary_columns)\n",
    "    df_julia=DataFrames.DataFrame()\n",
    "    i=0;while i<=length(df_pandas.columns)\n",
    "        str_column=df_pandas.columns[i]\n",
    "        df_julia[Symbol(str_column)]=df_pandas[str_column].values\n",
    "    i+=1;end\n",
    "    return df_julia\n",
    "end\n",
    "\n",
    "function to_parquet(str_filename,df_julia,str_compression=\"gzip\")\n",
    "    pd.DataFrame(Pandas.DataFrame(df_julia)).to_parquet(str_filename,compression=str_compression)\n",
    "end\n",
    "\n",
    "function to_datetime!(df_julia,str_column)\n",
    "    #convert numpy datetime64 to julia datetime\n",
    "    df_julia[Symbol(str_column)]=Dates.unix2datetime.(convert.(Int64,df_julia[Symbol(\"time\")])./1000000000)\n",
    "    return df_julia\n",
    "end\n",
    "\n",
    "function to_string!(df_julia,str_column)\n",
    "    #convert PyObject to julia String\n",
    "    df_julia[Symbol(str_column)]=convert.(String,df_julia[Symbol(str_column)])\n",
    "    return df_julia\n",
    "end\n"
   ]
  },
  {
   "cell_type": "code",
   "execution_count": 17,
   "metadata": {},
   "outputs": [
    {
     "name": "stdout",
     "output_type": "stream",
     "text": [
      "  0.027727 seconds (20.83 k allocations: 2.067 MiB)\n",
      "  0.012587 seconds (5.72 k allocations: 315.334 KiB)\n",
      "  0.007302 seconds (6.40 k allocations: 226.621 KiB)\n",
      "  0.040766 seconds (13.42 k allocations: 3.119 MiB)\n"
     ]
    }
   ],
   "source": [
    "@time df_julia=read_parquet(\"./table:國家標準站_每日_小時值,day:2020-08-15.parquet\")\n",
    "@time to_datetime!(df_julia,\"time\")\n",
    "@time to_string!(df_julia,\"測站\")\n",
    "@time to_parquet(\"from_julia.parquet\",df_julia)"
   ]
  },
  {
   "cell_type": "code",
   "execution_count": 131,
   "metadata": {},
   "outputs": [
    {
     "data": {
      "text/plain": [
       "PyObject <module 'pandas' from '/Library/Frameworks/Python.framework/Versions/3.8/lib/python3.8/site-packages/pandas/__init__.py'>"
      ]
     },
     "execution_count": 131,
     "metadata": {},
     "output_type": "execute_result"
    }
   ],
   "source": []
  },
  {
   "cell_type": "code",
   "execution_count": 15,
   "metadata": {},
   "outputs": [
    {
     "ename": "LoadError",
     "evalue": "\"Column whose `eltype` is Dates.DateTime is not supported at this stage. \\n\"",
     "output_type": "error",
     "traceback": [
      "\"Column whose `eltype` is Dates.DateTime is not supported at this stage. \\n\"",
      "",
      "Stacktrace:",
      " [1] write_parquet(::String, ::DataFrame; compression_codec::String) at /Users/chiubowen/.julia/packages/Parquet/2HfNB/src/writer.jl:479",
      " [2] write_parquet(::String, ::DataFrame) at /Users/chiubowen/.julia/packages/Parquet/2HfNB/src/writer.jl:464",
      " [3] top-level scope at In[15]:2",
      " [4] include_string(::Function, ::Module, ::String, ::String) at ./loading.jl:1091"
     ]
    }
   ],
   "source": [
    "using Parquet\n",
    "write_parquet(\"parquet_jl_寫出測試.parquet\",df_julia)"
   ]
  },
  {
   "cell_type": "code",
   "execution_count": 239,
   "metadata": {},
   "outputs": [],
   "source": [
    "df_pandas.to_parquet(\"hi.output\")"
   ]
  },
  {
   "cell_type": "code",
   "execution_count": 228,
   "metadata": {},
   "outputs": [
    {
     "name": "stdout",
     "output_type": "stream",
     "text": [
      "  0.000001 seconds (1 allocation: 16 bytes)\n"
     ]
    },
    {
     "ename": "LoadError",
     "evalue": "BoundsError: attempt to access Core.SimpleVector\n  at index [1]",
     "output_type": "error",
     "traceback": [
      "BoundsError: attempt to access Core.SimpleVector\n  at index [1]",
      "",
      "Stacktrace:",
      " [1] getindex(::Core.SimpleVector, ::Int64) at ./essentials.jl:583",
      " [2] Array(::Series) at /Users/chiubowen/.julia/packages/Pandas/rAPmB/src/Pandas.jl:81",
      " [3] (::Pandas.var\"#427#429\"{Pandas.DataFrame})(::String) at ./none:0",
      " [4] iterate(::Base.Generator{Array{String,1},Pandas.var\"#427#429\"{Pandas.DataFrame}}, ::Int64) at ./generator.jl:47",
      " [5] get_columns_copy_using_missing(::Pandas.DataFrame) at /Users/chiubowen/.julia/packages/Pandas/rAPmB/src/tabletraits.jl:24",
      " [6] columns at /Users/chiubowen/.julia/packages/Tables/Eti9i/src/fallbacks.jl:231 [inlined]",
      " [7] DataFrame(::Pandas.DataFrame; copycols::Bool) at /Users/chiubowen/.julia/packages/DataFrames/4ov0U/src/other/tables.jl:43",
      " [8] DataFrame(::Pandas.DataFrame) at /Users/chiubowen/.julia/packages/DataFrames/4ov0U/src/other/tables.jl:34",
      " [9] top-level scope at In[228]:3",
      " [10] include_string(::Function, ::Module, ::String, ::String) at ./loading.jl:1091"
     ]
    }
   ],
   "source": [
    "@time big_pandas=Pandas.DataFrame(df_pandas) #PyCall pandas to Pandas.jl\n",
    "nothing\n",
    "DataFrames.DataFrame(big_pandas) #Pandas.jl to julia, 網路說日期格式要轉為字串才有用"
   ]
  },
  {
   "cell_type": "code",
   "execution_count": 194,
   "metadata": {},
   "outputs": [
    {
     "name": "stdout",
     "output_type": "stream",
     "text": [
      "  0.037878 seconds (32.30 k allocations: 2.540 MiB)\n"
     ]
    },
    {
     "data": {
      "text/html": [
       "<table class=\"data-frame\"><thead><tr><th></th><th>測站</th><th>deviceId</th><th>time</th><th>lat</th><th>lon</th><th>amb_temp</th><th>amb_temp_#</th></tr><tr><th></th><th>String</th><th>Int64</th><th>DateTime</th><th>Float64</th><th>Float64</th><th>Float64</th><th>Int64</th></tr></thead><tbody><p>1,944 rows × 89 columns (omitted printing of 82 columns)</p><tr><th>1</th><td>前鎮測站</td><td>6263496709</td><td>2020-08-15T00:00:00</td><td>22.6054</td><td>120.308</td><td>25.4</td><td>0</td></tr><tr><th>2</th><td>前鎮測站</td><td>6263496709</td><td>2020-08-15T01:00:00</td><td>22.6054</td><td>120.308</td><td>25.4</td><td>0</td></tr><tr><th>3</th><td>前鎮測站</td><td>6263496709</td><td>2020-08-15T02:00:00</td><td>22.6054</td><td>120.308</td><td>25.7</td><td>0</td></tr><tr><th>4</th><td>前鎮測站</td><td>6263496709</td><td>2020-08-15T03:00:00</td><td>22.6054</td><td>120.308</td><td>25.2</td><td>0</td></tr><tr><th>5</th><td>前鎮測站</td><td>6263496709</td><td>2020-08-15T04:00:00</td><td>22.6054</td><td>120.308</td><td>25.2</td><td>0</td></tr><tr><th>6</th><td>前鎮測站</td><td>6263496709</td><td>2020-08-15T05:00:00</td><td>22.6054</td><td>120.308</td><td>25.2</td><td>0</td></tr><tr><th>7</th><td>前鎮測站</td><td>6263496709</td><td>2020-08-15T06:00:00</td><td>22.6054</td><td>120.308</td><td>25.6</td><td>0</td></tr><tr><th>8</th><td>前鎮測站</td><td>6263496709</td><td>2020-08-15T07:00:00</td><td>22.6054</td><td>120.308</td><td>26.5</td><td>0</td></tr><tr><th>9</th><td>前鎮測站</td><td>6263496709</td><td>2020-08-15T08:00:00</td><td>22.6054</td><td>120.308</td><td>28.0</td><td>0</td></tr><tr><th>10</th><td>前鎮測站</td><td>6263496709</td><td>2020-08-15T09:00:00</td><td>22.6054</td><td>120.308</td><td>30.1</td><td>0</td></tr><tr><th>11</th><td>前鎮測站</td><td>6263496709</td><td>2020-08-15T10:00:00</td><td>22.6054</td><td>120.308</td><td>31.3</td><td>0</td></tr><tr><th>12</th><td>前鎮測站</td><td>6263496709</td><td>2020-08-15T11:00:00</td><td>22.6054</td><td>120.308</td><td>30.9</td><td>0</td></tr><tr><th>13</th><td>前鎮測站</td><td>6263496709</td><td>2020-08-15T12:00:00</td><td>22.6054</td><td>120.308</td><td>31.3</td><td>0</td></tr><tr><th>14</th><td>前鎮測站</td><td>6263496709</td><td>2020-08-15T13:00:00</td><td>22.6054</td><td>120.308</td><td>32.1</td><td>0</td></tr><tr><th>15</th><td>前鎮測站</td><td>6263496709</td><td>2020-08-15T14:00:00</td><td>22.6054</td><td>120.308</td><td>32.9</td><td>0</td></tr><tr><th>16</th><td>前鎮測站</td><td>6263496709</td><td>2020-08-15T15:00:00</td><td>22.6054</td><td>120.308</td><td>31.2</td><td>0</td></tr><tr><th>17</th><td>前鎮測站</td><td>6263496709</td><td>2020-08-15T16:00:00</td><td>22.6054</td><td>120.308</td><td>27.7</td><td>0</td></tr><tr><th>18</th><td>前鎮測站</td><td>6263496709</td><td>2020-08-15T17:00:00</td><td>22.6054</td><td>120.308</td><td>26.0</td><td>0</td></tr><tr><th>19</th><td>前鎮測站</td><td>6263496709</td><td>2020-08-15T18:00:00</td><td>22.6054</td><td>120.308</td><td>27.0</td><td>0</td></tr><tr><th>20</th><td>前鎮測站</td><td>6263496709</td><td>2020-08-15T19:00:00</td><td>22.6054</td><td>120.308</td><td>27.1</td><td>0</td></tr><tr><th>21</th><td>前鎮測站</td><td>6263496709</td><td>2020-08-15T20:00:00</td><td>22.6054</td><td>120.308</td><td>27.3</td><td>0</td></tr><tr><th>22</th><td>前鎮測站</td><td>6263496709</td><td>2020-08-15T21:00:00</td><td>22.6054</td><td>120.308</td><td>27.5</td><td>0</td></tr><tr><th>23</th><td>前鎮測站</td><td>6263496709</td><td>2020-08-15T22:00:00</td><td>22.6054</td><td>120.308</td><td>28.0</td><td>0</td></tr><tr><th>24</th><td>前鎮測站</td><td>6263496709</td><td>2020-08-15T23:00:00</td><td>22.6054</td><td>120.308</td><td>27.7</td><td>0</td></tr><tr><th>25</th><td>松山測站</td><td>6264225486</td><td>2020-08-15T00:00:00</td><td>25.05</td><td>121.579</td><td>27.6</td><td>0</td></tr><tr><th>26</th><td>松山測站</td><td>6264225486</td><td>2020-08-15T01:00:00</td><td>25.05</td><td>121.579</td><td>27.6</td><td>0</td></tr><tr><th>27</th><td>松山測站</td><td>6264225486</td><td>2020-08-15T02:00:00</td><td>25.05</td><td>121.579</td><td>26.9</td><td>0</td></tr><tr><th>28</th><td>松山測站</td><td>6264225486</td><td>2020-08-15T03:00:00</td><td>25.05</td><td>121.579</td><td>26.7</td><td>0</td></tr><tr><th>29</th><td>松山測站</td><td>6264225486</td><td>2020-08-15T04:00:00</td><td>25.05</td><td>121.579</td><td>26.6</td><td>0</td></tr><tr><th>30</th><td>松山測站</td><td>6264225486</td><td>2020-08-15T05:00:00</td><td>25.05</td><td>121.579</td><td>26.4</td><td>0</td></tr><tr><th>&vellip;</th><td>&vellip;</td><td>&vellip;</td><td>&vellip;</td><td>&vellip;</td><td>&vellip;</td><td>&vellip;</td><td>&vellip;</td></tr></tbody></table>"
      ],
      "text/latex": [
       "\\begin{tabular}{r|cccccccc}\n",
       "\t& 測站 & deviceId & time & lat & lon & amb\\_temp & amb\\_temp\\_\\# & \\\\\n",
       "\t\\hline\n",
       "\t& String & Int64 & DateTime & Float64 & Float64 & Float64 & Int64 & \\\\\n",
       "\t\\hline\n",
       "\t1 & 前鎮測站 & 6263496709 & 2020-08-15T00:00:00 & 22.6054 & 120.308 & 25.4 & 0 & $\\dots$ \\\\\n",
       "\t2 & 前鎮測站 & 6263496709 & 2020-08-15T01:00:00 & 22.6054 & 120.308 & 25.4 & 0 & $\\dots$ \\\\\n",
       "\t3 & 前鎮測站 & 6263496709 & 2020-08-15T02:00:00 & 22.6054 & 120.308 & 25.7 & 0 & $\\dots$ \\\\\n",
       "\t4 & 前鎮測站 & 6263496709 & 2020-08-15T03:00:00 & 22.6054 & 120.308 & 25.2 & 0 & $\\dots$ \\\\\n",
       "\t5 & 前鎮測站 & 6263496709 & 2020-08-15T04:00:00 & 22.6054 & 120.308 & 25.2 & 0 & $\\dots$ \\\\\n",
       "\t6 & 前鎮測站 & 6263496709 & 2020-08-15T05:00:00 & 22.6054 & 120.308 & 25.2 & 0 & $\\dots$ \\\\\n",
       "\t7 & 前鎮測站 & 6263496709 & 2020-08-15T06:00:00 & 22.6054 & 120.308 & 25.6 & 0 & $\\dots$ \\\\\n",
       "\t8 & 前鎮測站 & 6263496709 & 2020-08-15T07:00:00 & 22.6054 & 120.308 & 26.5 & 0 & $\\dots$ \\\\\n",
       "\t9 & 前鎮測站 & 6263496709 & 2020-08-15T08:00:00 & 22.6054 & 120.308 & 28.0 & 0 & $\\dots$ \\\\\n",
       "\t10 & 前鎮測站 & 6263496709 & 2020-08-15T09:00:00 & 22.6054 & 120.308 & 30.1 & 0 & $\\dots$ \\\\\n",
       "\t11 & 前鎮測站 & 6263496709 & 2020-08-15T10:00:00 & 22.6054 & 120.308 & 31.3 & 0 & $\\dots$ \\\\\n",
       "\t12 & 前鎮測站 & 6263496709 & 2020-08-15T11:00:00 & 22.6054 & 120.308 & 30.9 & 0 & $\\dots$ \\\\\n",
       "\t13 & 前鎮測站 & 6263496709 & 2020-08-15T12:00:00 & 22.6054 & 120.308 & 31.3 & 0 & $\\dots$ \\\\\n",
       "\t14 & 前鎮測站 & 6263496709 & 2020-08-15T13:00:00 & 22.6054 & 120.308 & 32.1 & 0 & $\\dots$ \\\\\n",
       "\t15 & 前鎮測站 & 6263496709 & 2020-08-15T14:00:00 & 22.6054 & 120.308 & 32.9 & 0 & $\\dots$ \\\\\n",
       "\t16 & 前鎮測站 & 6263496709 & 2020-08-15T15:00:00 & 22.6054 & 120.308 & 31.2 & 0 & $\\dots$ \\\\\n",
       "\t17 & 前鎮測站 & 6263496709 & 2020-08-15T16:00:00 & 22.6054 & 120.308 & 27.7 & 0 & $\\dots$ \\\\\n",
       "\t18 & 前鎮測站 & 6263496709 & 2020-08-15T17:00:00 & 22.6054 & 120.308 & 26.0 & 0 & $\\dots$ \\\\\n",
       "\t19 & 前鎮測站 & 6263496709 & 2020-08-15T18:00:00 & 22.6054 & 120.308 & 27.0 & 0 & $\\dots$ \\\\\n",
       "\t20 & 前鎮測站 & 6263496709 & 2020-08-15T19:00:00 & 22.6054 & 120.308 & 27.1 & 0 & $\\dots$ \\\\\n",
       "\t21 & 前鎮測站 & 6263496709 & 2020-08-15T20:00:00 & 22.6054 & 120.308 & 27.3 & 0 & $\\dots$ \\\\\n",
       "\t22 & 前鎮測站 & 6263496709 & 2020-08-15T21:00:00 & 22.6054 & 120.308 & 27.5 & 0 & $\\dots$ \\\\\n",
       "\t23 & 前鎮測站 & 6263496709 & 2020-08-15T22:00:00 & 22.6054 & 120.308 & 28.0 & 0 & $\\dots$ \\\\\n",
       "\t24 & 前鎮測站 & 6263496709 & 2020-08-15T23:00:00 & 22.6054 & 120.308 & 27.7 & 0 & $\\dots$ \\\\\n",
       "\t25 & 松山測站 & 6264225486 & 2020-08-15T00:00:00 & 25.05 & 121.579 & 27.6 & 0 & $\\dots$ \\\\\n",
       "\t26 & 松山測站 & 6264225486 & 2020-08-15T01:00:00 & 25.05 & 121.579 & 27.6 & 0 & $\\dots$ \\\\\n",
       "\t27 & 松山測站 & 6264225486 & 2020-08-15T02:00:00 & 25.05 & 121.579 & 26.9 & 0 & $\\dots$ \\\\\n",
       "\t28 & 松山測站 & 6264225486 & 2020-08-15T03:00:00 & 25.05 & 121.579 & 26.7 & 0 & $\\dots$ \\\\\n",
       "\t29 & 松山測站 & 6264225486 & 2020-08-15T04:00:00 & 25.05 & 121.579 & 26.6 & 0 & $\\dots$ \\\\\n",
       "\t30 & 松山測站 & 6264225486 & 2020-08-15T05:00:00 & 25.05 & 121.579 & 26.4 & 0 & $\\dots$ \\\\\n",
       "\t$\\dots$ & $\\dots$ & $\\dots$ & $\\dots$ & $\\dots$ & $\\dots$ & $\\dots$ & $\\dots$ &  \\\\\n",
       "\\end{tabular}\n"
      ],
      "text/plain": [
       "1944×89 DataFrame. Omitted printing of 85 columns\n",
       "│ Row  │ 測站               │ deviceId   │ time                │ lat     │\n",
       "│      │ \u001b[90mString\u001b[39m             │ \u001b[90mInt64\u001b[39m      │ \u001b[90mDateTime\u001b[39m            │ \u001b[90mFloat64\u001b[39m │\n",
       "├──────┼────────────────────┼────────────┼─────────────────────┼─────────┤\n",
       "│ 1    │ 前鎮測站           │ 6263496709 │ 2020-08-15T00:00:00 │ 22.6054 │\n",
       "│ 2    │ 前鎮測站           │ 6263496709 │ 2020-08-15T01:00:00 │ 22.6054 │\n",
       "│ 3    │ 前鎮測站           │ 6263496709 │ 2020-08-15T02:00:00 │ 22.6054 │\n",
       "│ 4    │ 前鎮測站           │ 6263496709 │ 2020-08-15T03:00:00 │ 22.6054 │\n",
       "│ 5    │ 前鎮測站           │ 6263496709 │ 2020-08-15T04:00:00 │ 22.6054 │\n",
       "│ 6    │ 前鎮測站           │ 6263496709 │ 2020-08-15T05:00:00 │ 22.6054 │\n",
       "│ 7    │ 前鎮測站           │ 6263496709 │ 2020-08-15T06:00:00 │ 22.6054 │\n",
       "│ 8    │ 前鎮測站           │ 6263496709 │ 2020-08-15T07:00:00 │ 22.6054 │\n",
       "│ 9    │ 前鎮測站           │ 6263496709 │ 2020-08-15T08:00:00 │ 22.6054 │\n",
       "│ 10   │ 前鎮測站           │ 6263496709 │ 2020-08-15T09:00:00 │ 22.6054 │\n",
       "⋮\n",
       "│ 1934 │ 桃園市新興國小測站 │ 6742663016 │ 2020-08-15T13:00:00 │ 25.0082 │\n",
       "│ 1935 │ 桃園市新興國小測站 │ 6742663016 │ 2020-08-15T14:00:00 │ 25.0082 │\n",
       "│ 1936 │ 桃園市新興國小測站 │ 6742663016 │ 2020-08-15T15:00:00 │ 25.0082 │\n",
       "│ 1937 │ 桃園市新興國小測站 │ 6742663016 │ 2020-08-15T16:00:00 │ 25.0082 │\n",
       "│ 1938 │ 桃園市新興國小測站 │ 6742663016 │ 2020-08-15T17:00:00 │ 25.0082 │\n",
       "│ 1939 │ 桃園市新興國小測站 │ 6742663016 │ 2020-08-15T18:00:00 │ 25.0082 │\n",
       "│ 1940 │ 桃園市新興國小測站 │ 6742663016 │ 2020-08-15T19:00:00 │ 25.0082 │\n",
       "│ 1941 │ 桃園市新興國小測站 │ 6742663016 │ 2020-08-15T20:00:00 │ 25.0082 │\n",
       "│ 1942 │ 桃園市新興國小測站 │ 6742663016 │ 2020-08-15T21:00:00 │ 25.0082 │\n",
       "│ 1943 │ 桃園市新興國小測站 │ 6742663016 │ 2020-08-15T22:00:00 │ 25.0082 │\n",
       "│ 1944 │ 桃園市新興國小測站 │ 6742663016 │ 2020-08-15T23:00:00 │ 25.0082 │"
      ]
     },
     "execution_count": 194,
     "metadata": {},
     "output_type": "execute_result"
    }
   ],
   "source": [
    "function df_pandas_to_julia(df_pandas)\n",
    "    df_julia=DataFrames.DataFrame()\n",
    "    i=0;while i<=length(df_pandas.columns)\n",
    "        str_column=df_pandas.columns[i]\n",
    "        df_julia[Symbol(str_column)]=df_pandas[str_column].values\n",
    "    i+=1;end\n",
    "    return df_julia\n",
    "end\n",
    "df_pandas=pandas_read_parquet(\"./table:國家標準站_每日_小時值,day:2020-08-15.parquet\")\n",
    "@time begin\n",
    "    df=df_pandas_to_julia(df_pandas)\n",
    "    df[Symbol(\"測站\")]=convert.(String,df[Symbol(\"測站\")])\n",
    "    df[Symbol(\"time\")]=Dates.unix2datetime.(convert.(Int64,df[Symbol(\"time\")])./1000000000)\n",
    "end\n",
    "df"
   ]
  },
  {
   "cell_type": "code",
   "execution_count": 204,
   "metadata": {},
   "outputs": [
    {
     "data": {
      "text/html": [
       "<div>\n",
       "<style scoped>\n",
       "    .dataframe tbody tr th:only-of-type {\n",
       "        vertical-align: middle;\n",
       "    }\n",
       "\n",
       "    .dataframe tbody tr th {\n",
       "        vertical-align: top;\n",
       "    }\n",
       "\n",
       "    .dataframe thead th {\n",
       "        text-align: right;\n",
       "    }\n",
       "</style>\n",
       "<table border=\"1\" class=\"dataframe\">\n",
       "  <thead>\n",
       "    <tr style=\"text-align: right;\">\n",
       "      <th></th>\n",
       "      <th>0</th>\n",
       "    </tr>\n",
       "  </thead>\n",
       "  <tbody>\n",
       "    <tr>\n",
       "      <th>4</th>\n",
       "      <td>1</td>\n",
       "    </tr>\n",
       "    <tr>\n",
       "      <th>5</th>\n",
       "      <td>2</td>\n",
       "    </tr>\n",
       "    <tr>\n",
       "      <th>6</th>\n",
       "      <td>3</td>\n",
       "    </tr>\n",
       "  </tbody>\n",
       "</table>\n",
       "</div>"
      ],
      "text/plain": [
       "PyObject    0\n",
       "4  1\n",
       "5  2\n",
       "6  3"
      ]
     },
     "execution_count": 204,
     "metadata": {},
     "output_type": "execute_result"
    }
   ],
   "source": [
    "pd.DataFrame([1,2,3],[4,5,6])"
   ]
  },
  {
   "cell_type": "code",
   "execution_count": 208,
   "metadata": {},
   "outputs": [
    {
     "name": "stderr",
     "output_type": "stream",
     "text": [
      "\u001b[32m\u001b[1m  Resolving\u001b[22m\u001b[39m package versions...\n",
      "\u001b[32m\u001b[1mNo Changes\u001b[22m\u001b[39m to `~/.julia/environments/v1.5/Project.toml`\n",
      "\u001b[32m\u001b[1mNo Changes\u001b[22m\u001b[39m to `~/.julia/environments/v1.5/Manifest.toml`\n"
     ]
    }
   ],
   "source": []
  },
  {
   "cell_type": "code",
   "execution_count": 236,
   "metadata": {},
   "outputs": [
    {
     "name": "stdout",
     "output_type": "stream",
     "text": [
      "  0.009365 seconds (9.72 k allocations: 2.922 MiB)\n"
     ]
    }
   ],
   "source": [
    "import Pkg; Pkg.add(\"Pandas\")\n",
    "import Pandas\n",
    "@time df_pandas=Pandas.DataFrame(df)\n",
    "pd.DataFrame(df_pandas).to_parquet(\"output.parquet\",compression=\"gzip\")"
   ]
  },
  {
   "cell_type": "code",
   "execution_count": 147,
   "metadata": {},
   "outputs": [
    {
     "data": {
      "text/plain": [
       "PyObject numpy.datetime64('2020-08-15T00:00:00.000000000')"
      ]
     },
     "execution_count": 147,
     "metadata": {},
     "output_type": "execute_result"
    }
   ],
   "source": [
    "numpy_datetime64=df[Symbol(\"time\")][1]"
   ]
  },
  {
   "cell_type": "code",
   "execution_count": 156,
   "metadata": {},
   "outputs": [
    {
     "name": "stdout",
     "output_type": "stream",
     "text": [
      "  0.000020 seconds (1 allocation: 16 bytes)\n"
     ]
    },
    {
     "data": {
      "text/plain": [
       "1.5974496e18"
      ]
     },
     "execution_count": 156,
     "metadata": {},
     "output_type": "execute_result"
    }
   ],
   "source": [
    "@time convert(Float64,numpy_datetime64)"
   ]
  },
  {
   "cell_type": "code",
   "execution_count": 32,
   "metadata": {},
   "outputs": [
    {
     "data": {
      "text/plain": [
       "89-element Array{String,1}:\n",
       " \"測站\"\n",
       " \"deviceId\"\n",
       " \"time\"\n",
       " \"lat\"\n",
       " \"lon\"\n",
       " \"amb_temp\"\n",
       " \"amb_temp_#\"\n",
       " \"amb_temp_*\"\n",
       " \"amb_temp_x\"\n",
       " \"aqi\"\n",
       " \"aqi_#\"\n",
       " \"aqi_*\"\n",
       " \"aqi_x\"\n",
       " ⋮\n",
       " \"wind_direct\"\n",
       " \"wind_direct_#\"\n",
       " \"wind_direct_*\"\n",
       " \"wind_direct_x\"\n",
       " \"wind_speed\"\n",
       " \"wind_speed_#\"\n",
       " \"wind_speed_*\"\n",
       " \"wind_speed_x\"\n",
       " \"ws_hr\"\n",
       " \"ws_hr_#\"\n",
       " \"ws_hr_*\"\n",
       " \"ws_hr_x\""
      ]
     },
     "execution_count": 32,
     "metadata": {},
     "output_type": "execute_result"
    }
   ],
   "source": [
    "names(df)"
   ]
  },
  {
   "cell_type": "code",
   "execution_count": 36,
   "metadata": {},
   "outputs": [
    {
     "data": {
      "text/html": [
       "<table class=\"data-frame\"><thead><tr><th></th><th>測站</th><th>deviceId</th><th>time</th></tr><tr><th></th><th>PyObjec…</th><th>Int64</th><th>PyObjec…</th></tr></thead><tbody><p>1,944 rows × 6 columns (omitted printing of 3 columns)</p><tr><th>1</th><td>PyObject '前鎮測站'</td><td>6263496709</td><td>PyObject numpy.datetime64('2020-08-15T00:00:00.000000000')</td></tr><tr><th>2</th><td>PyObject '前鎮測站'</td><td>6263496709</td><td>PyObject numpy.datetime64('2020-08-15T01:00:00.000000000')</td></tr><tr><th>3</th><td>PyObject '前鎮測站'</td><td>6263496709</td><td>PyObject numpy.datetime64('2020-08-15T02:00:00.000000000')</td></tr><tr><th>4</th><td>PyObject '前鎮測站'</td><td>6263496709</td><td>PyObject numpy.datetime64('2020-08-15T03:00:00.000000000')</td></tr><tr><th>5</th><td>PyObject '前鎮測站'</td><td>6263496709</td><td>PyObject numpy.datetime64('2020-08-15T04:00:00.000000000')</td></tr><tr><th>6</th><td>PyObject '前鎮測站'</td><td>6263496709</td><td>PyObject numpy.datetime64('2020-08-15T05:00:00.000000000')</td></tr><tr><th>7</th><td>PyObject '前鎮測站'</td><td>6263496709</td><td>PyObject numpy.datetime64('2020-08-15T06:00:00.000000000')</td></tr><tr><th>8</th><td>PyObject '前鎮測站'</td><td>6263496709</td><td>PyObject numpy.datetime64('2020-08-15T07:00:00.000000000')</td></tr><tr><th>9</th><td>PyObject '前鎮測站'</td><td>6263496709</td><td>PyObject numpy.datetime64('2020-08-15T08:00:00.000000000')</td></tr><tr><th>10</th><td>PyObject '前鎮測站'</td><td>6263496709</td><td>PyObject numpy.datetime64('2020-08-15T09:00:00.000000000')</td></tr><tr><th>11</th><td>PyObject '前鎮測站'</td><td>6263496709</td><td>PyObject numpy.datetime64('2020-08-15T10:00:00.000000000')</td></tr><tr><th>12</th><td>PyObject '前鎮測站'</td><td>6263496709</td><td>PyObject numpy.datetime64('2020-08-15T11:00:00.000000000')</td></tr><tr><th>13</th><td>PyObject '前鎮測站'</td><td>6263496709</td><td>PyObject numpy.datetime64('2020-08-15T12:00:00.000000000')</td></tr><tr><th>14</th><td>PyObject '前鎮測站'</td><td>6263496709</td><td>PyObject numpy.datetime64('2020-08-15T13:00:00.000000000')</td></tr><tr><th>15</th><td>PyObject '前鎮測站'</td><td>6263496709</td><td>PyObject numpy.datetime64('2020-08-15T14:00:00.000000000')</td></tr><tr><th>16</th><td>PyObject '前鎮測站'</td><td>6263496709</td><td>PyObject numpy.datetime64('2020-08-15T15:00:00.000000000')</td></tr><tr><th>17</th><td>PyObject '前鎮測站'</td><td>6263496709</td><td>PyObject numpy.datetime64('2020-08-15T16:00:00.000000000')</td></tr><tr><th>18</th><td>PyObject '前鎮測站'</td><td>6263496709</td><td>PyObject numpy.datetime64('2020-08-15T17:00:00.000000000')</td></tr><tr><th>19</th><td>PyObject '前鎮測站'</td><td>6263496709</td><td>PyObject numpy.datetime64('2020-08-15T18:00:00.000000000')</td></tr><tr><th>20</th><td>PyObject '前鎮測站'</td><td>6263496709</td><td>PyObject numpy.datetime64('2020-08-15T19:00:00.000000000')</td></tr><tr><th>21</th><td>PyObject '前鎮測站'</td><td>6263496709</td><td>PyObject numpy.datetime64('2020-08-15T20:00:00.000000000')</td></tr><tr><th>22</th><td>PyObject '前鎮測站'</td><td>6263496709</td><td>PyObject numpy.datetime64('2020-08-15T21:00:00.000000000')</td></tr><tr><th>23</th><td>PyObject '前鎮測站'</td><td>6263496709</td><td>PyObject numpy.datetime64('2020-08-15T22:00:00.000000000')</td></tr><tr><th>24</th><td>PyObject '前鎮測站'</td><td>6263496709</td><td>PyObject numpy.datetime64('2020-08-15T23:00:00.000000000')</td></tr><tr><th>25</th><td>PyObject '松山測站'</td><td>6264225486</td><td>PyObject numpy.datetime64('2020-08-15T00:00:00.000000000')</td></tr><tr><th>26</th><td>PyObject '松山測站'</td><td>6264225486</td><td>PyObject numpy.datetime64('2020-08-15T01:00:00.000000000')</td></tr><tr><th>27</th><td>PyObject '松山測站'</td><td>6264225486</td><td>PyObject numpy.datetime64('2020-08-15T02:00:00.000000000')</td></tr><tr><th>28</th><td>PyObject '松山測站'</td><td>6264225486</td><td>PyObject numpy.datetime64('2020-08-15T03:00:00.000000000')</td></tr><tr><th>29</th><td>PyObject '松山測站'</td><td>6264225486</td><td>PyObject numpy.datetime64('2020-08-15T04:00:00.000000000')</td></tr><tr><th>30</th><td>PyObject '松山測站'</td><td>6264225486</td><td>PyObject numpy.datetime64('2020-08-15T05:00:00.000000000')</td></tr><tr><th>&vellip;</th><td>&vellip;</td><td>&vellip;</td><td>&vellip;</td></tr></tbody></table>"
      ],
      "text/latex": [
       "\\begin{tabular}{r|cccc}\n",
       "\t& 測站 & deviceId & time & \\\\\n",
       "\t\\hline\n",
       "\t& PyObjec… & Int64 & PyObjec… & \\\\\n",
       "\t\\hline\n",
       "\t1 & PyObject '前鎮測站' & 6263496709 & PyObject numpy.datetime64('2020-08-15T00:00:00.000000000') & $\\dots$ \\\\\n",
       "\t2 & PyObject '前鎮測站' & 6263496709 & PyObject numpy.datetime64('2020-08-15T01:00:00.000000000') & $\\dots$ \\\\\n",
       "\t3 & PyObject '前鎮測站' & 6263496709 & PyObject numpy.datetime64('2020-08-15T02:00:00.000000000') & $\\dots$ \\\\\n",
       "\t4 & PyObject '前鎮測站' & 6263496709 & PyObject numpy.datetime64('2020-08-15T03:00:00.000000000') & $\\dots$ \\\\\n",
       "\t5 & PyObject '前鎮測站' & 6263496709 & PyObject numpy.datetime64('2020-08-15T04:00:00.000000000') & $\\dots$ \\\\\n",
       "\t6 & PyObject '前鎮測站' & 6263496709 & PyObject numpy.datetime64('2020-08-15T05:00:00.000000000') & $\\dots$ \\\\\n",
       "\t7 & PyObject '前鎮測站' & 6263496709 & PyObject numpy.datetime64('2020-08-15T06:00:00.000000000') & $\\dots$ \\\\\n",
       "\t8 & PyObject '前鎮測站' & 6263496709 & PyObject numpy.datetime64('2020-08-15T07:00:00.000000000') & $\\dots$ \\\\\n",
       "\t9 & PyObject '前鎮測站' & 6263496709 & PyObject numpy.datetime64('2020-08-15T08:00:00.000000000') & $\\dots$ \\\\\n",
       "\t10 & PyObject '前鎮測站' & 6263496709 & PyObject numpy.datetime64('2020-08-15T09:00:00.000000000') & $\\dots$ \\\\\n",
       "\t11 & PyObject '前鎮測站' & 6263496709 & PyObject numpy.datetime64('2020-08-15T10:00:00.000000000') & $\\dots$ \\\\\n",
       "\t12 & PyObject '前鎮測站' & 6263496709 & PyObject numpy.datetime64('2020-08-15T11:00:00.000000000') & $\\dots$ \\\\\n",
       "\t13 & PyObject '前鎮測站' & 6263496709 & PyObject numpy.datetime64('2020-08-15T12:00:00.000000000') & $\\dots$ \\\\\n",
       "\t14 & PyObject '前鎮測站' & 6263496709 & PyObject numpy.datetime64('2020-08-15T13:00:00.000000000') & $\\dots$ \\\\\n",
       "\t15 & PyObject '前鎮測站' & 6263496709 & PyObject numpy.datetime64('2020-08-15T14:00:00.000000000') & $\\dots$ \\\\\n",
       "\t16 & PyObject '前鎮測站' & 6263496709 & PyObject numpy.datetime64('2020-08-15T15:00:00.000000000') & $\\dots$ \\\\\n",
       "\t17 & PyObject '前鎮測站' & 6263496709 & PyObject numpy.datetime64('2020-08-15T16:00:00.000000000') & $\\dots$ \\\\\n",
       "\t18 & PyObject '前鎮測站' & 6263496709 & PyObject numpy.datetime64('2020-08-15T17:00:00.000000000') & $\\dots$ \\\\\n",
       "\t19 & PyObject '前鎮測站' & 6263496709 & PyObject numpy.datetime64('2020-08-15T18:00:00.000000000') & $\\dots$ \\\\\n",
       "\t20 & PyObject '前鎮測站' & 6263496709 & PyObject numpy.datetime64('2020-08-15T19:00:00.000000000') & $\\dots$ \\\\\n",
       "\t21 & PyObject '前鎮測站' & 6263496709 & PyObject numpy.datetime64('2020-08-15T20:00:00.000000000') & $\\dots$ \\\\\n",
       "\t22 & PyObject '前鎮測站' & 6263496709 & PyObject numpy.datetime64('2020-08-15T21:00:00.000000000') & $\\dots$ \\\\\n",
       "\t23 & PyObject '前鎮測站' & 6263496709 & PyObject numpy.datetime64('2020-08-15T22:00:00.000000000') & $\\dots$ \\\\\n",
       "\t24 & PyObject '前鎮測站' & 6263496709 & PyObject numpy.datetime64('2020-08-15T23:00:00.000000000') & $\\dots$ \\\\\n",
       "\t25 & PyObject '松山測站' & 6264225486 & PyObject numpy.datetime64('2020-08-15T00:00:00.000000000') & $\\dots$ \\\\\n",
       "\t26 & PyObject '松山測站' & 6264225486 & PyObject numpy.datetime64('2020-08-15T01:00:00.000000000') & $\\dots$ \\\\\n",
       "\t27 & PyObject '松山測站' & 6264225486 & PyObject numpy.datetime64('2020-08-15T02:00:00.000000000') & $\\dots$ \\\\\n",
       "\t28 & PyObject '松山測站' & 6264225486 & PyObject numpy.datetime64('2020-08-15T03:00:00.000000000') & $\\dots$ \\\\\n",
       "\t29 & PyObject '松山測站' & 6264225486 & PyObject numpy.datetime64('2020-08-15T04:00:00.000000000') & $\\dots$ \\\\\n",
       "\t30 & PyObject '松山測站' & 6264225486 & PyObject numpy.datetime64('2020-08-15T05:00:00.000000000') & $\\dots$ \\\\\n",
       "\t$\\dots$ & $\\dots$ & $\\dots$ & $\\dots$ &  \\\\\n",
       "\\end{tabular}\n"
      ],
      "text/plain": [
       "1944×6 DataFrame. Omitted printing of 4 columns\n",
       "│ Row  │ 測站                          │ deviceId   │\n",
       "│      │ \u001b[90mPyCall.PyObject\u001b[39m               │ \u001b[90mInt64\u001b[39m      │\n",
       "├──────┼───────────────────────────────┼────────────┤\n",
       "│ 1    │ PyObject '前鎮測站'           │ 6263496709 │\n",
       "│ 2    │ PyObject '前鎮測站'           │ 6263496709 │\n",
       "│ 3    │ PyObject '前鎮測站'           │ 6263496709 │\n",
       "│ 4    │ PyObject '前鎮測站'           │ 6263496709 │\n",
       "│ 5    │ PyObject '前鎮測站'           │ 6263496709 │\n",
       "│ 6    │ PyObject '前鎮測站'           │ 6263496709 │\n",
       "│ 7    │ PyObject '前鎮測站'           │ 6263496709 │\n",
       "│ 8    │ PyObject '前鎮測站'           │ 6263496709 │\n",
       "│ 9    │ PyObject '前鎮測站'           │ 6263496709 │\n",
       "│ 10   │ PyObject '前鎮測站'           │ 6263496709 │\n",
       "⋮\n",
       "│ 1934 │ PyObject '桃園市新興國小測站' │ 6742663016 │\n",
       "│ 1935 │ PyObject '桃園市新興國小測站' │ 6742663016 │\n",
       "│ 1936 │ PyObject '桃園市新興國小測站' │ 6742663016 │\n",
       "│ 1937 │ PyObject '桃園市新興國小測站' │ 6742663016 │\n",
       "│ 1938 │ PyObject '桃園市新興國小測站' │ 6742663016 │\n",
       "│ 1939 │ PyObject '桃園市新興國小測站' │ 6742663016 │\n",
       "│ 1940 │ PyObject '桃園市新興國小測站' │ 6742663016 │\n",
       "│ 1941 │ PyObject '桃園市新興國小測站' │ 6742663016 │\n",
       "│ 1942 │ PyObject '桃園市新興國小測站' │ 6742663016 │\n",
       "│ 1943 │ PyObject '桃園市新興國小測站' │ 6742663016 │\n",
       "│ 1944 │ PyObject '桃園市新興國小測站' │ 6742663016 │"
      ]
     },
     "execution_count": 36,
     "metadata": {},
     "output_type": "execute_result"
    }
   ],
   "source": [
    "df[!,1:6]"
   ]
  },
  {
   "cell_type": "code",
   "execution_count": 113,
   "metadata": {},
   "outputs": [
    {
     "data": {
      "text/plain": [
       "89-element Array{DataType,1}:\n",
       " PyObject\n",
       " Int64\n",
       " PyObject\n",
       " Float64\n",
       " Float64\n",
       " Float64\n",
       " Int64\n",
       " Int64\n",
       " Int64\n",
       " Float64\n",
       " Int64\n",
       " Int64\n",
       " Int64\n",
       " ⋮\n",
       " Float64\n",
       " Int64\n",
       " Int64\n",
       " Int64\n",
       " Float64\n",
       " Int64\n",
       " Int64\n",
       " Int64\n",
       " Float64\n",
       " Int64\n",
       " Int64\n",
       " Int64"
      ]
     },
     "execution_count": 113,
     "metadata": {},
     "output_type": "execute_result"
    }
   ],
   "source": [
    "eltypes(df)"
   ]
  },
  {
   "cell_type": "code",
   "execution_count": 114,
   "metadata": {},
   "outputs": [
    {
     "data": {
      "text/plain": [
       "true"
      ]
     },
     "execution_count": 114,
     "metadata": {},
     "output_type": "execute_result"
    }
   ],
   "source": [
    "eltypes(df)[1]==PyObject"
   ]
  },
  {
   "cell_type": "code",
   "execution_count": 122,
   "metadata": {},
   "outputs": [
    {
     "data": {
      "text/plain": [
       "PyObject"
      ]
     },
     "execution_count": 122,
     "metadata": {},
     "output_type": "execute_result"
    }
   ],
   "source": [
    "typeof(df[1:1,1][1])"
   ]
  },
  {
   "cell_type": "code",
   "execution_count": 63,
   "metadata": {},
   "outputs": [
    {
     "data": {
      "text/plain": [
       "1944-element Array{String,1}:\n",
       " \"前鎮測站\"\n",
       " \"前鎮測站\"\n",
       " \"前鎮測站\"\n",
       " \"前鎮測站\"\n",
       " \"前鎮測站\"\n",
       " \"前鎮測站\"\n",
       " \"前鎮測站\"\n",
       " \"前鎮測站\"\n",
       " \"前鎮測站\"\n",
       " \"前鎮測站\"\n",
       " \"前鎮測站\"\n",
       " \"前鎮測站\"\n",
       " \"前鎮測站\"\n",
       " ⋮\n",
       " \"桃園市新興國小測站\"\n",
       " \"桃園市新興國小測站\"\n",
       " \"桃園市新興國小測站\"\n",
       " \"桃園市新興國小測站\"\n",
       " \"桃園市新興國小測站\"\n",
       " \"桃園市新興國小測站\"\n",
       " \"桃園市新興國小測站\"\n",
       " \"桃園市新興國小測站\"\n",
       " \"桃園市新興國小測站\"\n",
       " \"桃園市新興國小測站\"\n",
       " \"桃園市新興國小測站\"\n",
       " \"桃園市新興國小測站\""
      ]
     },
     "execution_count": 63,
     "metadata": {},
     "output_type": "execute_result"
    }
   ],
   "source": [
    "convert.(String,df[Symbol(\"測站\")])"
   ]
  },
  {
   "cell_type": "code",
   "execution_count": 64,
   "metadata": {},
   "outputs": [
    {
     "ename": "LoadError",
     "evalue": "ArgumentError: Package DateTime not found in current path:\n- Run `import Pkg; Pkg.add(\"DateTime\")` to install the DateTime package.\n",
     "output_type": "error",
     "traceback": [
      "ArgumentError: Package DateTime not found in current path:\n- Run `import Pkg; Pkg.add(\"DateTime\")` to install the DateTime package.\n",
      "",
      "Stacktrace:",
      " [1] require(::Module, ::Symbol) at ./loading.jl:893",
      " [2] include_string(::Function, ::Module, ::String, ::String) at ./loading.jl:1091"
     ]
    }
   ],
   "source": [
    "using DateTime\n",
    "convert.(DateTime,df[Symbol(\"測站\")])"
   ]
  },
  {
   "cell_type": "code",
   "execution_count": 61,
   "metadata": {},
   "outputs": [
    {
     "data": {
      "text/plain": [
       "\"abc\""
      ]
     },
     "execution_count": 61,
     "metadata": {},
     "output_type": "execute_result"
    }
   ],
   "source": [
    "convert(String, convert(PyObject, \"abc\"))"
   ]
  },
  {
   "cell_type": "code",
   "execution_count": 66,
   "metadata": {},
   "outputs": [
    {
     "name": "stderr",
     "output_type": "stream",
     "text": [
      "\u001b[32m\u001b[1m  Resolving\u001b[22m\u001b[39m package versions...\n",
      "\u001b[32m\u001b[1mUpdating\u001b[22m\u001b[39m `~/.julia/environments/v1.5/Project.toml`\n",
      " \u001b[90m [ade2ca70] \u001b[39m\u001b[92m+ Dates\u001b[39m\n",
      "\u001b[32m\u001b[1mNo Changes\u001b[22m\u001b[39m to `~/.julia/environments/v1.5/Manifest.toml`\n"
     ]
    }
   ],
   "source": [
    "import Pkg; Pkg.add(\"Dates\")\n",
    "using Dates"
   ]
  },
  {
   "cell_type": "code",
   "execution_count": 69,
   "metadata": {},
   "outputs": [
    {
     "data": {
      "text/plain": [
       "2013-01-01T00:00:00"
      ]
     },
     "execution_count": 69,
     "metadata": {},
     "output_type": "execute_result"
    }
   ],
   "source": [
    "DateTime(2013)"
   ]
  },
  {
   "cell_type": "code",
   "execution_count": 73,
   "metadata": {},
   "outputs": [
    {
     "data": {
      "text/plain": [
       "PyObject numpy.datetime64('2020-08-15T00:00:00.000000000')"
      ]
     },
     "execution_count": 73,
     "metadata": {},
     "output_type": "execute_result"
    }
   ],
   "source": [
    "df[Symbol(\"time\")][1]"
   ]
  },
  {
   "cell_type": "code",
   "execution_count": 74,
   "metadata": {},
   "outputs": [
    {
     "ename": "LoadError",
     "evalue": "ArgumentError: unknown DateTime type PyObject numpy.datetime64('2020-08-15T00:00:00.000000000')",
     "output_type": "error",
     "traceback": [
      "ArgumentError: unknown DateTime type PyObject numpy.datetime64('2020-08-15T00:00:00.000000000')",
      "",
      "Stacktrace:",
      " [1] convert(::Type{DateTime}, ::PyObject) at /Users/chiubowen/.julia/packages/PyCall/zqDXB/src/pydates.jl:151",
      " [2] top-level scope at In[74]:1",
      " [3] include_string(::Function, ::Module, ::String, ::String) at ./loading.jl:1091"
     ]
    }
   ],
   "source": [
    "convert(DateTime,df[Symbol(\"time\")][1])"
   ]
  },
  {
   "cell_type": "code",
   "execution_count": 79,
   "metadata": {},
   "outputs": [
    {
     "data": {
      "text/plain": [
       "PyObject numpy.datetime64('2020-08-15T00:00:00.000000000')"
      ]
     },
     "execution_count": 79,
     "metadata": {},
     "output_type": "execute_result"
    }
   ],
   "source": [
    "df[Symbol(\"time\")][1]"
   ]
  },
  {
   "cell_type": "code",
   "execution_count": 82,
   "metadata": {},
   "outputs": [
    {
     "data": {
      "text/plain": [
       "1944-element Array{PyObject,1}:\n",
       " PyObject numpy.datetime64('2020-08-15T00:00:00.000000000')\n",
       " PyObject numpy.datetime64('2020-08-15T01:00:00.000000000')\n",
       " PyObject numpy.datetime64('2020-08-15T02:00:00.000000000')\n",
       " PyObject numpy.datetime64('2020-08-15T03:00:00.000000000')\n",
       " PyObject numpy.datetime64('2020-08-15T04:00:00.000000000')\n",
       " PyObject numpy.datetime64('2020-08-15T05:00:00.000000000')\n",
       " PyObject numpy.datetime64('2020-08-15T06:00:00.000000000')\n",
       " PyObject numpy.datetime64('2020-08-15T07:00:00.000000000')\n",
       " PyObject numpy.datetime64('2020-08-15T08:00:00.000000000')\n",
       " PyObject numpy.datetime64('2020-08-15T09:00:00.000000000')\n",
       " PyObject numpy.datetime64('2020-08-15T10:00:00.000000000')\n",
       " PyObject numpy.datetime64('2020-08-15T11:00:00.000000000')\n",
       " PyObject numpy.datetime64('2020-08-15T12:00:00.000000000')\n",
       " ⋮\n",
       " PyObject numpy.datetime64('2020-08-15T12:00:00.000000000')\n",
       " PyObject numpy.datetime64('2020-08-15T13:00:00.000000000')\n",
       " PyObject numpy.datetime64('2020-08-15T14:00:00.000000000')\n",
       " PyObject numpy.datetime64('2020-08-15T15:00:00.000000000')\n",
       " PyObject numpy.datetime64('2020-08-15T16:00:00.000000000')\n",
       " PyObject numpy.datetime64('2020-08-15T17:00:00.000000000')\n",
       " PyObject numpy.datetime64('2020-08-15T18:00:00.000000000')\n",
       " PyObject numpy.datetime64('2020-08-15T19:00:00.000000000')\n",
       " PyObject numpy.datetime64('2020-08-15T20:00:00.000000000')\n",
       " PyObject numpy.datetime64('2020-08-15T21:00:00.000000000')\n",
       " PyObject numpy.datetime64('2020-08-15T22:00:00.000000000')\n",
       " PyObject numpy.datetime64('2020-08-15T23:00:00.000000000')"
      ]
     },
     "execution_count": 82,
     "metadata": {},
     "output_type": "execute_result"
    }
   ],
   "source": [
    "df[Symbol(\"time\")]"
   ]
  },
  {
   "cell_type": "code",
   "execution_count": 86,
   "metadata": {},
   "outputs": [
    {
     "name": "stdout",
     "output_type": "stream",
     "text": [
      "  0.004924 seconds (3.94 k allocations: 94.219 KiB)\n"
     ]
    },
    {
     "data": {
      "text/plain": [
       "1944-element Array{Int64,1}:\n",
       " 1597449600000000000\n",
       " 1597453200000000000\n",
       " 1597456800000000000\n",
       " 1597460400000000000\n",
       " 1597464000000000000\n",
       " 1597467600000000000\n",
       " 1597471200000000000\n",
       " 1597474800000000000\n",
       " 1597478400000000000\n",
       " 1597482000000000000\n",
       " 1597485600000000000\n",
       " 1597489200000000000\n",
       " 1597492800000000000\n",
       "                   ⋮\n",
       " 1597492800000000000\n",
       " 1597496400000000000\n",
       " 1597500000000000000\n",
       " 1597503600000000000\n",
       " 1597507200000000000\n",
       " 1597510800000000000\n",
       " 1597514400000000000\n",
       " 1597518000000000000\n",
       " 1597521600000000000\n",
       " 1597525200000000000\n",
       " 1597528800000000000\n",
       " 1597532400000000000"
      ]
     },
     "execution_count": 86,
     "metadata": {},
     "output_type": "execute_result"
    }
   ],
   "source": [
    "@time df_pandas.time.values.tolist()"
   ]
  },
  {
   "cell_type": "code",
   "execution_count": 160,
   "metadata": {},
   "outputs": [
    {
     "name": "stdout",
     "output_type": "stream",
     "text": [
      "  0.000108 seconds (8 allocations: 352 bytes)\n"
     ]
    },
    {
     "data": {
      "text/plain": [
       "PyObject array(['2020-08-15T00:00:00.000000000', '2020-08-15T01:00:00.000000000',\n",
       "       '2020-08-15T02:00:00.000000000', ...,\n",
       "       '2020-08-15T21:00:00.000000000', '2020-08-15T22:00:00.000000000',\n",
       "       '2020-08-15T23:00:00.000000000'], dtype='datetime64[ns]')"
      ]
     },
     "execution_count": 160,
     "metadata": {},
     "output_type": "execute_result"
    }
   ],
   "source": [
    "@time df_pandas.time.values"
   ]
  },
  {
   "cell_type": "code",
   "execution_count": 95,
   "metadata": {},
   "outputs": [
    {
     "data": {
      "text/plain": [
       "-156099826-03-28T04:42:25.152"
      ]
     },
     "execution_count": 95,
     "metadata": {},
     "output_type": "execute_result"
    }
   ],
   "source": [
    "DateTime(1597562322)"
   ]
  },
  {
   "cell_type": "code",
   "execution_count": 110,
   "metadata": {},
   "outputs": [
    {
     "name": "stdout",
     "output_type": "stream",
     "text": [
      "  0.000215 seconds (109 allocations: 34.969 KiB)\n"
     ]
    },
    {
     "data": {
      "text/html": [
       "<table class=\"data-frame\"><thead><tr><th></th><th>測站</th><th>deviceId</th><th>time</th></tr><tr><th></th><th>PyObject</th><th>Int64</th><th>PyObject</th></tr></thead><tbody><p>24 rows × 89 columns (omitted printing of 86 columns)</p><tr><th>1</th><td>PyObject '松山測站'</td><td>6264225486</td><td>PyObject numpy.datetime64('2020-08-15T00:00:00.000000000')</td></tr><tr><th>2</th><td>PyObject '松山測站'</td><td>6264225486</td><td>PyObject numpy.datetime64('2020-08-15T01:00:00.000000000')</td></tr><tr><th>3</th><td>PyObject '松山測站'</td><td>6264225486</td><td>PyObject numpy.datetime64('2020-08-15T02:00:00.000000000')</td></tr><tr><th>4</th><td>PyObject '松山測站'</td><td>6264225486</td><td>PyObject numpy.datetime64('2020-08-15T03:00:00.000000000')</td></tr><tr><th>5</th><td>PyObject '松山測站'</td><td>6264225486</td><td>PyObject numpy.datetime64('2020-08-15T04:00:00.000000000')</td></tr><tr><th>6</th><td>PyObject '松山測站'</td><td>6264225486</td><td>PyObject numpy.datetime64('2020-08-15T05:00:00.000000000')</td></tr><tr><th>7</th><td>PyObject '松山測站'</td><td>6264225486</td><td>PyObject numpy.datetime64('2020-08-15T06:00:00.000000000')</td></tr><tr><th>8</th><td>PyObject '松山測站'</td><td>6264225486</td><td>PyObject numpy.datetime64('2020-08-15T07:00:00.000000000')</td></tr><tr><th>9</th><td>PyObject '松山測站'</td><td>6264225486</td><td>PyObject numpy.datetime64('2020-08-15T08:00:00.000000000')</td></tr><tr><th>10</th><td>PyObject '松山測站'</td><td>6264225486</td><td>PyObject numpy.datetime64('2020-08-15T09:00:00.000000000')</td></tr><tr><th>11</th><td>PyObject '松山測站'</td><td>6264225486</td><td>PyObject numpy.datetime64('2020-08-15T10:00:00.000000000')</td></tr><tr><th>12</th><td>PyObject '松山測站'</td><td>6264225486</td><td>PyObject numpy.datetime64('2020-08-15T11:00:00.000000000')</td></tr><tr><th>13</th><td>PyObject '松山測站'</td><td>6264225486</td><td>PyObject numpy.datetime64('2020-08-15T12:00:00.000000000')</td></tr><tr><th>14</th><td>PyObject '松山測站'</td><td>6264225486</td><td>PyObject numpy.datetime64('2020-08-15T13:00:00.000000000')</td></tr><tr><th>15</th><td>PyObject '松山測站'</td><td>6264225486</td><td>PyObject numpy.datetime64('2020-08-15T14:00:00.000000000')</td></tr><tr><th>16</th><td>PyObject '松山測站'</td><td>6264225486</td><td>PyObject numpy.datetime64('2020-08-15T15:00:00.000000000')</td></tr><tr><th>17</th><td>PyObject '松山測站'</td><td>6264225486</td><td>PyObject numpy.datetime64('2020-08-15T16:00:00.000000000')</td></tr><tr><th>18</th><td>PyObject '松山測站'</td><td>6264225486</td><td>PyObject numpy.datetime64('2020-08-15T17:00:00.000000000')</td></tr><tr><th>19</th><td>PyObject '松山測站'</td><td>6264225486</td><td>PyObject numpy.datetime64('2020-08-15T18:00:00.000000000')</td></tr><tr><th>20</th><td>PyObject '松山測站'</td><td>6264225486</td><td>PyObject numpy.datetime64('2020-08-15T19:00:00.000000000')</td></tr><tr><th>21</th><td>PyObject '松山測站'</td><td>6264225486</td><td>PyObject numpy.datetime64('2020-08-15T20:00:00.000000000')</td></tr><tr><th>22</th><td>PyObject '松山測站'</td><td>6264225486</td><td>PyObject numpy.datetime64('2020-08-15T21:00:00.000000000')</td></tr><tr><th>23</th><td>PyObject '松山測站'</td><td>6264225486</td><td>PyObject numpy.datetime64('2020-08-15T22:00:00.000000000')</td></tr><tr><th>24</th><td>PyObject '松山測站'</td><td>6264225486</td><td>PyObject numpy.datetime64('2020-08-15T23:00:00.000000000')</td></tr></tbody></table>"
      ],
      "text/latex": [
       "\\begin{tabular}{r|cccc}\n",
       "\t& 測站 & deviceId & time & \\\\\n",
       "\t\\hline\n",
       "\t& PyObject & Int64 & PyObject & \\\\\n",
       "\t\\hline\n",
       "\t1 & PyObject '松山測站' & 6264225486 & PyObject numpy.datetime64('2020-08-15T00:00:00.000000000') & $\\dots$ \\\\\n",
       "\t2 & PyObject '松山測站' & 6264225486 & PyObject numpy.datetime64('2020-08-15T01:00:00.000000000') & $\\dots$ \\\\\n",
       "\t3 & PyObject '松山測站' & 6264225486 & PyObject numpy.datetime64('2020-08-15T02:00:00.000000000') & $\\dots$ \\\\\n",
       "\t4 & PyObject '松山測站' & 6264225486 & PyObject numpy.datetime64('2020-08-15T03:00:00.000000000') & $\\dots$ \\\\\n",
       "\t5 & PyObject '松山測站' & 6264225486 & PyObject numpy.datetime64('2020-08-15T04:00:00.000000000') & $\\dots$ \\\\\n",
       "\t6 & PyObject '松山測站' & 6264225486 & PyObject numpy.datetime64('2020-08-15T05:00:00.000000000') & $\\dots$ \\\\\n",
       "\t7 & PyObject '松山測站' & 6264225486 & PyObject numpy.datetime64('2020-08-15T06:00:00.000000000') & $\\dots$ \\\\\n",
       "\t8 & PyObject '松山測站' & 6264225486 & PyObject numpy.datetime64('2020-08-15T07:00:00.000000000') & $\\dots$ \\\\\n",
       "\t9 & PyObject '松山測站' & 6264225486 & PyObject numpy.datetime64('2020-08-15T08:00:00.000000000') & $\\dots$ \\\\\n",
       "\t10 & PyObject '松山測站' & 6264225486 & PyObject numpy.datetime64('2020-08-15T09:00:00.000000000') & $\\dots$ \\\\\n",
       "\t11 & PyObject '松山測站' & 6264225486 & PyObject numpy.datetime64('2020-08-15T10:00:00.000000000') & $\\dots$ \\\\\n",
       "\t12 & PyObject '松山測站' & 6264225486 & PyObject numpy.datetime64('2020-08-15T11:00:00.000000000') & $\\dots$ \\\\\n",
       "\t13 & PyObject '松山測站' & 6264225486 & PyObject numpy.datetime64('2020-08-15T12:00:00.000000000') & $\\dots$ \\\\\n",
       "\t14 & PyObject '松山測站' & 6264225486 & PyObject numpy.datetime64('2020-08-15T13:00:00.000000000') & $\\dots$ \\\\\n",
       "\t15 & PyObject '松山測站' & 6264225486 & PyObject numpy.datetime64('2020-08-15T14:00:00.000000000') & $\\dots$ \\\\\n",
       "\t16 & PyObject '松山測站' & 6264225486 & PyObject numpy.datetime64('2020-08-15T15:00:00.000000000') & $\\dots$ \\\\\n",
       "\t17 & PyObject '松山測站' & 6264225486 & PyObject numpy.datetime64('2020-08-15T16:00:00.000000000') & $\\dots$ \\\\\n",
       "\t18 & PyObject '松山測站' & 6264225486 & PyObject numpy.datetime64('2020-08-15T17:00:00.000000000') & $\\dots$ \\\\\n",
       "\t19 & PyObject '松山測站' & 6264225486 & PyObject numpy.datetime64('2020-08-15T18:00:00.000000000') & $\\dots$ \\\\\n",
       "\t20 & PyObject '松山測站' & 6264225486 & PyObject numpy.datetime64('2020-08-15T19:00:00.000000000') & $\\dots$ \\\\\n",
       "\t21 & PyObject '松山測站' & 6264225486 & PyObject numpy.datetime64('2020-08-15T20:00:00.000000000') & $\\dots$ \\\\\n",
       "\t22 & PyObject '松山測站' & 6264225486 & PyObject numpy.datetime64('2020-08-15T21:00:00.000000000') & $\\dots$ \\\\\n",
       "\t23 & PyObject '松山測站' & 6264225486 & PyObject numpy.datetime64('2020-08-15T22:00:00.000000000') & $\\dots$ \\\\\n",
       "\t24 & PyObject '松山測站' & 6264225486 & PyObject numpy.datetime64('2020-08-15T23:00:00.000000000') & $\\dots$ \\\\\n",
       "\\end{tabular}\n"
      ],
      "text/plain": [
       "24×89 DataFrame. Omitted printing of 87 columns\n",
       "│ Row │ 測站                │ deviceId   │\n",
       "│     │ \u001b[90mPyObject\u001b[39m            │ \u001b[90mInt64\u001b[39m      │\n",
       "├─────┼─────────────────────┼────────────┤\n",
       "│ 1   │ PyObject '松山測站' │ 6264225486 │\n",
       "│ 2   │ PyObject '松山測站' │ 6264225486 │\n",
       "│ 3   │ PyObject '松山測站' │ 6264225486 │\n",
       "│ 4   │ PyObject '松山測站' │ 6264225486 │\n",
       "│ 5   │ PyObject '松山測站' │ 6264225486 │\n",
       "│ 6   │ PyObject '松山測站' │ 6264225486 │\n",
       "│ 7   │ PyObject '松山測站' │ 6264225486 │\n",
       "│ 8   │ PyObject '松山測站' │ 6264225486 │\n",
       "│ 9   │ PyObject '松山測站' │ 6264225486 │\n",
       "│ 10  │ PyObject '松山測站' │ 6264225486 │\n",
       "⋮\n",
       "│ 14  │ PyObject '松山測站' │ 6264225486 │\n",
       "│ 15  │ PyObject '松山測站' │ 6264225486 │\n",
       "│ 16  │ PyObject '松山測站' │ 6264225486 │\n",
       "│ 17  │ PyObject '松山測站' │ 6264225486 │\n",
       "│ 18  │ PyObject '松山測站' │ 6264225486 │\n",
       "│ 19  │ PyObject '松山測站' │ 6264225486 │\n",
       "│ 20  │ PyObject '松山測站' │ 6264225486 │\n",
       "│ 21  │ PyObject '松山測站' │ 6264225486 │\n",
       "│ 22  │ PyObject '松山測站' │ 6264225486 │\n",
       "│ 23  │ PyObject '松山測站' │ 6264225486 │\n",
       "│ 24  │ PyObject '松山測站' │ 6264225486 │"
      ]
     },
     "execution_count": 110,
     "metadata": {},
     "output_type": "execute_result"
    }
   ],
   "source": [
    "#df[Symbol(\"測站\")]\n",
    "@time filter(Symbol(\"測站\")=>isequal(PyObject(\"松山測站\")),df)"
   ]
  },
  {
   "cell_type": "code",
   "execution_count": 191,
   "metadata": {},
   "outputs": [
    {
     "data": {
      "text/plain": [
       "1944-element Array{Float64,1}:\n",
       " 1.5974496e9\n",
       " 1.5974532e9\n",
       " 1.5974568e9\n",
       " 1.5974604e9\n",
       " 1.597464e9\n",
       " 1.5974676e9\n",
       " 1.5974712e9\n",
       " 1.5974748e9\n",
       " 1.5974784e9\n",
       " 1.597482e9\n",
       " 1.5974856e9\n",
       " 1.5974892e9\n",
       " 1.5974928e9\n",
       " ⋮\n",
       " 1.5974928e9\n",
       " 1.5974964e9\n",
       " 1.5975e9\n",
       " 1.5975036e9\n",
       " 1.5975072e9\n",
       " 1.5975108e9\n",
       " 1.5975144e9\n",
       " 1.597518e9\n",
       " 1.5975216e9\n",
       " 1.5975252e9\n",
       " 1.5975288e9\n",
       " 1.5975324e9"
      ]
     },
     "execution_count": 191,
     "metadata": {},
     "output_type": "execute_result"
    }
   ],
   "source": []
  },
  {
   "cell_type": "code",
   "execution_count": null,
   "metadata": {},
   "outputs": [],
   "source": []
  }
 ],
 "metadata": {
  "kernelspec": {
   "display_name": "Julia 1.5.0",
   "language": "julia",
   "name": "julia-1.5"
  },
  "language_info": {
   "file_extension": ".jl",
   "mimetype": "application/julia",
   "name": "julia",
   "version": "1.5.0"
  }
 },
 "nbformat": 4,
 "nbformat_minor": 4
}
